{
  "nbformat": 4,
  "nbformat_minor": 0,
  "metadata": {
    "interpreter": {
      "hash": "9a3c1a9b2abf68fe537e73b8532cf2e1ab6b2ef98fbfa1136e187e2e862bcae8"
    },
    "kernelspec": {
      "display_name": "Python 3.7.0 64-bit ('BT4012': conda)",
      "name": "python3"
    },
    "language_info": {
      "codemirror_mode": {
        "name": "ipython",
        "version": 3
      },
      "file_extension": ".py",
      "mimetype": "text/x-python",
      "name": "python",
      "nbconvert_exporter": "python",
      "pygments_lexer": "ipython3",
      "version": "3.7.0"
    },
    "colab": {
      "name": "Paper Implementation",
      "provenance": [],
      "collapsed_sections": [
        "tEvUGQMoIFoZ",
        "qgjvMlFEvdbQ",
        "r1ufoXSsvfNM",
        "rRDgKfbAaVY8"
      ],
      "toc_visible": true
    },
    "accelerator": "GPU"
  },
  "cells": [
    {
      "cell_type": "markdown",
      "metadata": {
        "id": "xaCWXvFmRpQe"
      },
      "source": [
        "# Initialize"
      ]
    },
    {
      "cell_type": "code",
      "metadata": {
        "colab": {
          "base_uri": "https://localhost:8080/"
        },
        "id": "5PxuUcjNRbKm",
        "outputId": "79467272-08b4-4bba-b5b9-2d87614fe3f4"
      },
      "source": [
        "from google.colab import drive\n",
        "drive.mount('/gdrive')"
      ],
      "execution_count": 1,
      "outputs": [
        {
          "output_type": "stream",
          "name": "stdout",
          "text": [
            "Drive already mounted at /gdrive; to attempt to forcibly remount, call drive.mount(\"/gdrive\", force_remount=True).\n"
          ]
        }
      ]
    },
    {
      "cell_type": "code",
      "metadata": {
        "_cell_guid": "b1076dfc-b9ad-4769-8c92-a6c4dae69d19",
        "_kg_hide-input": true,
        "_kg_hide-output": true,
        "_uuid": "8f2839f25d086af736a60e9eeb907d3b93b6e0e5",
        "colab": {
          "base_uri": "https://localhost:8080/"
        },
        "id": "uYTl13LjRWMK",
        "outputId": "d2cbcd85-331d-4bf4-8761-1f3f8fcddcc8"
      },
      "source": [
        "from __future__ import absolute_import\n",
        "from __future__ import division\n",
        "from __future__ import print_function\n",
        "from tqdm import tqdm\n",
        "import pandas as pd\n",
        "import numpy as np\n",
        "import tensorflow as tf\n",
        "from tensorflow.python import tf2\n",
        "if not tf2.enabled():\n",
        "    import tensorflow.compat.v2 as tf\n",
        "    tf.enable_v2_behavior()\n",
        "    assert tf2.enabled()\n",
        "\n",
        "import tensorflow as tf\n",
        "from tensorflow.keras import Sequential, Model, Input\n",
        "\n",
        "from tensorflow.keras.layers import Dense, InputLayer\n",
        "import tensorflow_probability as tfp\n",
        "tfk = tf.keras\n",
        "tfkl = tf.keras.layers\n",
        "tfpl = tfp.layers\n",
        "tfd = tfp.distributions\n",
        "from tensorflow.keras.utils import plot_model\n",
        "from tensorflow.keras.callbacks import EarlyStopping, ModelCheckpoint, ReduceLROnPlateau\n",
        "import pandas as pd\n",
        "import matplotlib.pyplot as plt\n",
        "from sklearn.model_selection import train_test_split \n",
        "from sklearn.linear_model import LogisticRegression\n",
        "from sklearn import metrics\n",
        "from sklearn.metrics import classification_report, accuracy_score, roc_auc_score, roc_curve\n",
        "from sklearn.preprocessing import MinMaxScaler\n",
        "from sklearn.manifold import TSNE\n",
        "from sklearn.decomposition import PCA\n",
        "import os\n",
        "%matplotlib inline\n",
        "from imblearn.over_sampling import ADASYN\n",
        "import seaborn as sns\n",
        "from xgboost import XGBClassifier\n",
        "np.random.seed(0)\n",
        "tf.random.set_seed(0)\n",
        "random_state = 42\n",
        "print(tf.__version__)\n",
        "print(tfp.__version__)"
      ],
      "execution_count": 2,
      "outputs": [
        {
          "output_type": "stream",
          "name": "stdout",
          "text": [
            "2.7.0\n",
            "0.14.1\n"
          ]
        },
        {
          "output_type": "stream",
          "name": "stderr",
          "text": [
            "/usr/local/lib/python3.7/dist-packages/sklearn/externals/six.py:31: FutureWarning: The module is deprecated in version 0.21 and will be removed in version 0.23 since we've dropped support for Python 2.7. Please rely on the official version of six (https://pypi.org/project/six/).\n",
            "  \"(https://pypi.org/project/six/).\", FutureWarning)\n",
            "/usr/local/lib/python3.7/dist-packages/sklearn/utils/deprecation.py:144: FutureWarning: The sklearn.neighbors.base module is  deprecated in version 0.22 and will be removed in version 0.24. The corresponding classes / functions should instead be imported from sklearn.neighbors. Anything that cannot be imported from sklearn.neighbors is now part of the private API.\n",
            "  warnings.warn(message, FutureWarning)\n"
          ]
        }
      ]
    },
    {
      "cell_type": "markdown",
      "metadata": {
        "id": "Rwz5m_wBIB1r"
      },
      "source": [
        "## Helper Functions"
      ]
    },
    {
      "cell_type": "code",
      "metadata": {
        "id": "zxUVX_LgICJ-"
      },
      "source": [
        "\n",
        "def find_best_threshold(true, pred_scores, metric = metrics.f1_score):\n",
        "    step = (max(pred_scores) - min(pred_scores)) /100\n",
        "    cur_threshold = 0\n",
        "    best_threshold = 0\n",
        "    best_score = 0\n",
        "    while cur_threshold < max(pred_scores) :\n",
        "        # print( cur_threshold,max(pred_scores) )\n",
        "        cur_score = metric(true, pred_scores > cur_threshold)\n",
        "        if cur_score > best_score:\n",
        "            best_score = cur_score\n",
        "            best_threshold = cur_threshold\n",
        "        cur_threshold += step\n",
        "        # print(f\"Max Pred Score: {max(pred_scores)}\")\n",
        "        # print(f\"Best Threshold: {best_threshold}\")\n",
        "        # print(f\"Current Threshold: {cur_threshold}\")\n",
        "        # print(f\"Best score: {best_score}\")\n",
        "        # print(f\"Current score: {cur_score}\")\n",
        "    return best_threshold\n",
        "def get_res(true, pred_scores, threshold, name = \"\"):\n",
        "    metrics_dict = {\"F1\":lambda x, y : metrics.f1_score(x, y > threshold),\n",
        "               \"AUC\": metrics.roc_auc_score,\n",
        "               \"AUC PRC\": metrics.average_precision_score\n",
        "               }\n",
        "    res = pd.Series()\n",
        "    res.name = name\n",
        "    for name, metric in metrics_dict.items():\n",
        "        res[name] = metric(true, pred_scores)\n",
        "    return res"
      ],
      "execution_count": 3,
      "outputs": []
    },
    {
      "cell_type": "code",
      "metadata": {
        "id": "p3JJHPZJIP3J"
      },
      "source": [
        "def anomalyScores(originalDF, reducedDF):\n",
        "    loss = np.sum((np.array(originalDF)-np.array(reducedDF))**2, axis=1)\n",
        "    loss = pd.Series(data=loss,index=originalDF.index)\n",
        "    loss = (loss-np.min(loss))/(np.max(loss)-np.min(loss))\n",
        "    return loss\n",
        "\n",
        "from sklearn.metrics import precision_recall_curve, average_precision_score, auc\n",
        "def plotResults(trueLabels, anomalyScores, returnPreds = False):\n",
        "    preds = pd.concat([trueLabels, anomalyScores], axis=1)\n",
        "    preds.columns = ['trueLabel', 'anomalyScore']\n",
        "    precision, recall, thresholds = \\\n",
        "        precision_recall_curve(preds['trueLabel'],preds['anomalyScore'])\n",
        "    average_precision = \\\n",
        "        average_precision_score(preds['trueLabel'],preds['anomalyScore'])\n",
        "\n",
        "    plt.step(recall, precision, color='k', alpha=0.7, where='post')\n",
        "    plt.fill_between(recall, precision, step='post', alpha=0.3, color='k')\n",
        "\n",
        "    plt.xlabel('Recall')\n",
        "    plt.ylabel('Precision')\n",
        "    plt.ylim([0.0, 1.05])\n",
        "    plt.xlim([0.0, 1.0])\n",
        "\n",
        "    plt.title('Precision-Recall curve: Average Precision = \\\n",
        "    {0:0.2f}'.format(average_precision))\n",
        "\n",
        "    fpr, tpr, thresholds = roc_curve(preds['trueLabel'], \\\n",
        "                                     preds['anomalyScore'])\n",
        "    areaUnderROC = auc(fpr, tpr)\n",
        "\n",
        "    plt.figure()\n",
        "    plt.plot(fpr, tpr, color='r', lw=2, label='ROC curve')\n",
        "    plt.plot([0, 1], [0, 1], color='k', lw=2, linestyle='--')\n",
        "    plt.xlim([0.0, 1.0])\n",
        "    plt.ylim([0.0, 1.05])\n",
        "    plt.xlabel('False Positive Rate')\n",
        "    plt.ylabel('True Positive Rate')\n",
        "    plt.title('Receiver operating characteristic: \\\n",
        "    Area under the curve = {0:0.2f}'.format(areaUnderROC))\n",
        "    plt.legend(loc=\"lower right\")\n",
        "    plt.show()\n",
        "\n",
        "    if returnPreds==True:\n",
        "        return preds"
      ],
      "execution_count": 4,
      "outputs": []
    },
    {
      "cell_type": "markdown",
      "metadata": {
        "id": "iCJwvYkSHmGd"
      },
      "source": [
        "### Results holders"
      ]
    },
    {
      "cell_type": "code",
      "metadata": {
        "id": "1-D0R8vxHl1z"
      },
      "source": [
        "class results_holder:\n",
        "    def __init__(self, train_true, val_true, train_val_true, test_true):\n",
        "        self.train_res = pd.DataFrame()\n",
        "        self.val_res = pd.DataFrame()\n",
        "        self.test_res = pd.DataFrame()\n",
        "        self.train_true = train_true\n",
        "        self.train_val_true = train_val_true\n",
        "        self.val_true = val_true\n",
        "        self.test_true = test_true\n",
        "    def add_results(self, train, val, train_val, test, name = \"\"):\n",
        "        train_threshold = find_best_threshold(self.train_true, train)\n",
        "        val_threshold = find_best_threshold(self.val_true, val)\n",
        "        train_val_threshold = find_best_threshold(self.train_val_true, train_val)\n",
        "        \n",
        "        train_res = get_res(self.train_true, train, train_threshold, name)\n",
        "        val_res = get_res(self.val_true, val, val_threshold, name)\n",
        "        # Threshold on train_val\n",
        "        test_res = get_res(self.test_true, test, train_val_threshold, name)\n",
        "\n",
        "        self.train_res = self.train_res.append(train_res)\n",
        "        self.val_res = self.val_res.append(val_res)\n",
        "        self.test_res = self.test_res.append(test_res)\n",
        "\n"
      ],
      "execution_count": 5,
      "outputs": []
    },
    {
      "cell_type": "markdown",
      "metadata": {
        "id": "tEvUGQMoIFoZ"
      },
      "source": [
        "## Import and Process Data"
      ]
    },
    {
      "cell_type": "code",
      "metadata": {
        "_kg_hide-input": false,
        "_kg_hide-output": true,
        "_uuid": "cbc89746d900392dbddef6a0906e0b4fefe88523",
        "colab": {
          "base_uri": "https://localhost:8080/"
        },
        "id": "7SQsO-YfRWMN",
        "outputId": "48d7e063-d157-44d0-ec1c-4ec27c9d4875"
      },
      "source": [
        "input_path = \"/gdrive/MyDrive/BT4012 Project\"\n",
        "raw = pd.read_csv(f\"{input_path}/creditcard.csv\").sample(100000, random_state = random_state)\n",
        "X_train, X_test, y_train, y_test = train_test_split(raw.drop(\"Class\", axis = 1), raw[\"Class\"], test_size=0.25, random_state = random_state)\n",
        "X_val, X_test, y_val, y_test = train_test_split(X_test, y_test, test_size=0.5, random_state = random_state)\n",
        "[x.shape for x in [X_train, X_val, X_test, y_train, y_val, y_test]]\n",
        "\n",
        "\n"
      ],
      "execution_count": 58,
      "outputs": [
        {
          "output_type": "execute_result",
          "data": {
            "text/plain": [
              "[(75000, 30), (12500, 30), (12500, 30), (75000,), (12500,), (12500,)]"
            ]
          },
          "metadata": {},
          "execution_count": 58
        }
      ]
    },
    {
      "cell_type": "code",
      "metadata": {
        "id": "o0-4UMdPVZcx",
        "colab": {
          "base_uri": "https://localhost:8080/"
        },
        "outputId": "3a636805-c81f-4559-a084-ac3257b02a80"
      },
      "source": [
        "time_to_hours = lambda x : x / 3600 % 24\n",
        "log_scale = lambda x : np.log(x+1) # Prevent inf\n",
        "\n",
        "def preprocessing(data):\n",
        "    data = data.copy()\n",
        "    data[\"Time\"] = data[\"Time\"].apply(time_to_hours)\n",
        "    data[\"Amount\"] = data[\"Amount\"].apply(log_scale)\n",
        "    return data\n",
        "X_train_cleaned = preprocessing(X_train)\n",
        "X_val_cleaned = preprocessing(X_val)\n",
        "X_test_cleaned = preprocessing(X_test)\n",
        "X_train_cleaned.shape, X_val_cleaned.shape, X_test_cleaned.shape"
      ],
      "execution_count": 59,
      "outputs": [
        {
          "output_type": "execute_result",
          "data": {
            "text/plain": [
              "((75000, 30), (12500, 30), (12500, 30))"
            ]
          },
          "metadata": {},
          "execution_count": 59
        }
      ]
    },
    {
      "cell_type": "code",
      "metadata": {
        "colab": {
          "base_uri": "https://localhost:8080/"
        },
        "id": "WcER1edlKtW6",
        "outputId": "e306f2fd-cbce-425c-96c7-e9111172f341"
      },
      "source": [
        "X_train_val_cleaned = pd.concat([X_train_cleaned, X_val_cleaned], axis = 0)\n",
        "y_train_val = pd.concat([y_train, y_val], axis = 0)\n",
        "\n",
        "all_results = results_holder(y_train, y_val, y_train_val, y_test)\n",
        "\n",
        "X_train_val_cleaned.shape, y_train_val.shape"
      ],
      "execution_count": 60,
      "outputs": [
        {
          "output_type": "execute_result",
          "data": {
            "text/plain": [
              "((87500, 30), (87500,))"
            ]
          },
          "metadata": {},
          "execution_count": 60
        }
      ]
    },
    {
      "cell_type": "code",
      "metadata": {
        "colab": {
          "base_uri": "https://localhost:8080/",
          "height": 223
        },
        "id": "dGNTgMn-ioem",
        "outputId": "ce4d58a3-9a02-4934-a196-449ff5f9e79b"
      },
      "source": [
        "X_train_cleaned.head()"
      ],
      "execution_count": 61,
      "outputs": [
        {
          "output_type": "execute_result",
          "data": {
            "text/html": [
              "<div>\n",
              "<style scoped>\n",
              "    .dataframe tbody tr th:only-of-type {\n",
              "        vertical-align: middle;\n",
              "    }\n",
              "\n",
              "    .dataframe tbody tr th {\n",
              "        vertical-align: top;\n",
              "    }\n",
              "\n",
              "    .dataframe thead th {\n",
              "        text-align: right;\n",
              "    }\n",
              "</style>\n",
              "<table border=\"1\" class=\"dataframe\">\n",
              "  <thead>\n",
              "    <tr style=\"text-align: right;\">\n",
              "      <th></th>\n",
              "      <th>Time</th>\n",
              "      <th>V1</th>\n",
              "      <th>V2</th>\n",
              "      <th>V3</th>\n",
              "      <th>V4</th>\n",
              "      <th>V5</th>\n",
              "      <th>V6</th>\n",
              "      <th>V7</th>\n",
              "      <th>V8</th>\n",
              "      <th>V9</th>\n",
              "      <th>V10</th>\n",
              "      <th>V11</th>\n",
              "      <th>V12</th>\n",
              "      <th>V13</th>\n",
              "      <th>V14</th>\n",
              "      <th>V15</th>\n",
              "      <th>V16</th>\n",
              "      <th>V17</th>\n",
              "      <th>V18</th>\n",
              "      <th>V19</th>\n",
              "      <th>V20</th>\n",
              "      <th>V21</th>\n",
              "      <th>V22</th>\n",
              "      <th>V23</th>\n",
              "      <th>V24</th>\n",
              "      <th>V25</th>\n",
              "      <th>V26</th>\n",
              "      <th>V27</th>\n",
              "      <th>V28</th>\n",
              "      <th>Amount</th>\n",
              "    </tr>\n",
              "  </thead>\n",
              "  <tbody>\n",
              "    <tr>\n",
              "      <th>134495</th>\n",
              "      <td>22.453611</td>\n",
              "      <td>-1.472397</td>\n",
              "      <td>0.342064</td>\n",
              "      <td>1.475451</td>\n",
              "      <td>0.058871</td>\n",
              "      <td>1.154972</td>\n",
              "      <td>0.788022</td>\n",
              "      <td>0.548575</td>\n",
              "      <td>0.332188</td>\n",
              "      <td>-0.395896</td>\n",
              "      <td>-0.598640</td>\n",
              "      <td>0.728040</td>\n",
              "      <td>0.637057</td>\n",
              "      <td>0.248511</td>\n",
              "      <td>0.152280</td>\n",
              "      <td>1.460489</td>\n",
              "      <td>-1.051531</td>\n",
              "      <td>0.539399</td>\n",
              "      <td>-2.175693</td>\n",
              "      <td>-2.467226</td>\n",
              "      <td>-0.590383</td>\n",
              "      <td>0.125903</td>\n",
              "      <td>0.773880</td>\n",
              "      <td>0.520450</td>\n",
              "      <td>-0.656679</td>\n",
              "      <td>-0.295381</td>\n",
              "      <td>-0.509949</td>\n",
              "      <td>0.089405</td>\n",
              "      <td>0.016172</td>\n",
              "      <td>2.707383</td>\n",
              "    </tr>\n",
              "    <tr>\n",
              "      <th>238733</th>\n",
              "      <td>17.610278</td>\n",
              "      <td>-0.537673</td>\n",
              "      <td>1.305584</td>\n",
              "      <td>-0.216030</td>\n",
              "      <td>-0.362919</td>\n",
              "      <td>0.102158</td>\n",
              "      <td>-1.073609</td>\n",
              "      <td>0.913679</td>\n",
              "      <td>-0.052749</td>\n",
              "      <td>-0.384988</td>\n",
              "      <td>-0.617919</td>\n",
              "      <td>-0.877046</td>\n",
              "      <td>0.569788</td>\n",
              "      <td>1.042128</td>\n",
              "      <td>0.468495</td>\n",
              "      <td>0.423610</td>\n",
              "      <td>-0.337881</td>\n",
              "      <td>-0.360529</td>\n",
              "      <td>0.111845</td>\n",
              "      <td>0.081928</td>\n",
              "      <td>-0.230769</td>\n",
              "      <td>0.476727</td>\n",
              "      <td>1.357714</td>\n",
              "      <td>-0.163708</td>\n",
              "      <td>0.117701</td>\n",
              "      <td>-0.446789</td>\n",
              "      <td>-0.189386</td>\n",
              "      <td>-0.149430</td>\n",
              "      <td>0.142881</td>\n",
              "      <td>3.680595</td>\n",
              "    </tr>\n",
              "    <tr>\n",
              "      <th>69992</th>\n",
              "      <td>14.906389</td>\n",
              "      <td>1.204744</td>\n",
              "      <td>0.332036</td>\n",
              "      <td>0.419879</td>\n",
              "      <td>1.204284</td>\n",
              "      <td>-0.456784</td>\n",
              "      <td>-1.156401</td>\n",
              "      <td>0.222527</td>\n",
              "      <td>-0.244576</td>\n",
              "      <td>-0.009082</td>\n",
              "      <td>0.016706</td>\n",
              "      <td>-0.136917</td>\n",
              "      <td>0.185274</td>\n",
              "      <td>-0.267222</td>\n",
              "      <td>0.452310</td>\n",
              "      <td>0.919730</td>\n",
              "      <td>-0.035420</td>\n",
              "      <td>-0.295170</td>\n",
              "      <td>-0.230926</td>\n",
              "      <td>-0.495037</td>\n",
              "      <td>-0.150596</td>\n",
              "      <td>0.051702</td>\n",
              "      <td>0.165180</td>\n",
              "      <td>-0.063627</td>\n",
              "      <td>0.718796</td>\n",
              "      <td>0.633879</td>\n",
              "      <td>-0.348841</td>\n",
              "      <td>0.011193</td>\n",
              "      <td>0.024707</td>\n",
              "      <td>2.630449</td>\n",
              "    </tr>\n",
              "    <tr>\n",
              "      <th>282022</th>\n",
              "      <td>23.390278</td>\n",
              "      <td>-4.304655</td>\n",
              "      <td>0.556812</td>\n",
              "      <td>1.907029</td>\n",
              "      <td>5.124435</td>\n",
              "      <td>-0.237664</td>\n",
              "      <td>2.369248</td>\n",
              "      <td>-4.414476</td>\n",
              "      <td>-8.339140</td>\n",
              "      <td>-1.639420</td>\n",
              "      <td>0.075057</td>\n",
              "      <td>-1.480551</td>\n",
              "      <td>-0.117490</td>\n",
              "      <td>-0.452826</td>\n",
              "      <td>0.588899</td>\n",
              "      <td>1.178412</td>\n",
              "      <td>1.214333</td>\n",
              "      <td>0.320657</td>\n",
              "      <td>0.955402</td>\n",
              "      <td>0.763382</td>\n",
              "      <td>0.233238</td>\n",
              "      <td>-3.383596</td>\n",
              "      <td>2.031254</td>\n",
              "      <td>2.013425</td>\n",
              "      <td>0.012022</td>\n",
              "      <td>0.220624</td>\n",
              "      <td>0.639576</td>\n",
              "      <td>0.824547</td>\n",
              "      <td>-0.269609</td>\n",
              "      <td>2.257588</td>\n",
              "    </tr>\n",
              "    <tr>\n",
              "      <th>269030</th>\n",
              "      <td>21.416111</td>\n",
              "      <td>1.845828</td>\n",
              "      <td>0.359027</td>\n",
              "      <td>-1.222742</td>\n",
              "      <td>3.724936</td>\n",
              "      <td>0.694074</td>\n",
              "      <td>0.027421</td>\n",
              "      <td>0.403851</td>\n",
              "      <td>-0.034137</td>\n",
              "      <td>-0.852703</td>\n",
              "      <td>1.485295</td>\n",
              "      <td>-1.603370</td>\n",
              "      <td>-1.261210</td>\n",
              "      <td>-1.937668</td>\n",
              "      <td>0.765001</td>\n",
              "      <td>-0.734385</td>\n",
              "      <td>0.655008</td>\n",
              "      <td>-0.541928</td>\n",
              "      <td>-0.556410</td>\n",
              "      <td>-1.352393</td>\n",
              "      <td>-0.285169</td>\n",
              "      <td>-0.114363</td>\n",
              "      <td>-0.542256</td>\n",
              "      <td>0.207178</td>\n",
              "      <td>0.504820</td>\n",
              "      <td>-0.050089</td>\n",
              "      <td>-0.159089</td>\n",
              "      <td>-0.078525</td>\n",
              "      <td>-0.041816</td>\n",
              "      <td>4.152771</td>\n",
              "    </tr>\n",
              "  </tbody>\n",
              "</table>\n",
              "</div>"
            ],
            "text/plain": [
              "             Time        V1        V2  ...       V27       V28    Amount\n",
              "134495  22.453611 -1.472397  0.342064  ...  0.089405  0.016172  2.707383\n",
              "238733  17.610278 -0.537673  1.305584  ... -0.149430  0.142881  3.680595\n",
              "69992   14.906389  1.204744  0.332036  ...  0.011193  0.024707  2.630449\n",
              "282022  23.390278 -4.304655  0.556812  ...  0.824547 -0.269609  2.257588\n",
              "269030  21.416111  1.845828  0.359027  ... -0.078525 -0.041816  4.152771\n",
              "\n",
              "[5 rows x 30 columns]"
            ]
          },
          "metadata": {},
          "execution_count": 61
        }
      ]
    },
    {
      "cell_type": "code",
      "metadata": {
        "id": "JTQY8J2u2yKY"
      },
      "source": [
        "X_train_cleaned_0s = X_train_cleaned[y_train == 0]\n",
        "X_val_cleaned_0s = X_val_cleaned[y_val == 0]\n",
        "X_train_val_cleaned_0s = X_train_val_cleaned[y_train_val== 0]\n"
      ],
      "execution_count": 62,
      "outputs": []
    },
    {
      "cell_type": "code",
      "metadata": {
        "id": "yLGkjnGG6BTI"
      },
      "source": [
        "# x = X_train_cleaned\n",
        "# y = y_train\n",
        "\n",
        "# x_norm, x_fraud = x.values[y == 0], x.values[y == 1]\n",
        "\n",
        "# x_norm_sample = x_norm[np.random.randint(x_norm.shape[0], size=100000), :]\n",
        "# x_norm_train_sample, x_norm_val_sample = train_test_split(x_norm_sample, test_size=0.2, random_state = 42)\n",
        "\n",
        "# tf_train = tf.data.Dataset.from_tensor_slices((x_norm_train_sample, x_norm_train_sample)).batch(batch_size).prefetch(tf.data.experimental.AUTOTUNE).shuffle(int(10e4))\n",
        "# tf_val = tf.data.Dataset.from_tensor_slices((x_norm_val_sample, x_norm_val_sample)).batch(batch_size).prefetch(tf.data.experimental.AUTOTUNE).shuffle(int(10e4))"
      ],
      "execution_count": 63,
      "outputs": []
    },
    {
      "cell_type": "markdown",
      "metadata": {
        "id": "qgjvMlFEvdbQ"
      },
      "source": [
        "# Principal Component Analysis (PCA)"
      ]
    },
    {
      "cell_type": "markdown",
      "metadata": {
        "id": "SJZzSQJ-wNIx"
      },
      "source": [
        "References:\n",
        "https://www.oreilly.com/library/view/hands-on-unsupervised-learning/9781492035633/ch04.html\n",
        "\n",
        "Note: PCA has already been applied on the dataset before this. Applying PCA again is redundant, but the reference tutorial which uses the same dataset mentions that it is ok to apply PCA twice. We will just assume that the features given are the original features. "
      ]
    },
    {
      "cell_type": "code",
      "metadata": {
        "id": "5W7esWfDvkYa"
      },
      "source": [
        "n_components = 30\n",
        "\n",
        "pca = PCA(n_components=n_components, random_state=random_state)\n",
        "\n",
        "# Fit only on non-anomalies\n",
        "pca.fit(X_train_cleaned_0s)\n",
        "\n",
        "def get_PCA_anomaly_Scores(data, pca):\n",
        "    # Decomposition\n",
        "    data_PCA = pca.transform(data)\n",
        "    # Reconstruction \n",
        "    data_PCA_inverse = pca.inverse_transform(data_PCA)\n",
        "    data_PCA_inverse = pd.DataFrame(data=data_PCA_inverse, index=data.index)\n",
        "    return anomalyScores(data, data_PCA_inverse)"
      ],
      "execution_count": 65,
      "outputs": []
    },
    {
      "cell_type": "code",
      "metadata": {
        "id": "uTg_7-Y5xSQc"
      },
      "source": [
        "X_train_PCA_scores = get_PCA_anomaly_Scores(X_train_cleaned, pca)\n",
        "X_val_PCA_scores = get_PCA_anomaly_Scores(X_val_cleaned, pca)\n",
        "pca.fit(X_train_val_cleaned_0s)\n",
        "X_train_val_PCA_scores = get_PCA_anomaly_Scores(X_train_val_cleaned, pca)\n",
        "X_test_PCA_scores = get_PCA_anomaly_Scores(X_test_cleaned, pca)"
      ],
      "execution_count": 66,
      "outputs": []
    },
    {
      "cell_type": "code",
      "metadata": {
        "colab": {
          "base_uri": "https://localhost:8080/"
        },
        "id": "GkHnF05ZO1kO",
        "outputId": "cd7c52e1-bae8-4f08-dbf5-80a7707f29f0"
      },
      "source": [
        "all_results.add_results(X_train_PCA_scores, X_val_PCA_scores, X_train_val_PCA_scores, X_test_PCA_scores, \"PCA\" )"
      ],
      "execution_count": 67,
      "outputs": [
        {
          "output_type": "stream",
          "name": "stderr",
          "text": [
            "/usr/local/lib/python3.7/dist-packages/ipykernel_launcher.py:25: DeprecationWarning: The default dtype for empty Series will be 'object' instead of 'float64' in a future version. Specify a dtype explicitly to silence this warning.\n",
            "/usr/local/lib/python3.7/dist-packages/ipykernel_launcher.py:25: DeprecationWarning: The default dtype for empty Series will be 'object' instead of 'float64' in a future version. Specify a dtype explicitly to silence this warning.\n",
            "/usr/local/lib/python3.7/dist-packages/ipykernel_launcher.py:25: DeprecationWarning: The default dtype for empty Series will be 'object' instead of 'float64' in a future version. Specify a dtype explicitly to silence this warning.\n"
          ]
        }
      ]
    },
    {
      "cell_type": "code",
      "metadata": {
        "colab": {
          "base_uri": "https://localhost:8080/",
          "height": 0
        },
        "id": "8NvO4bqjPgPV",
        "outputId": "58af35d8-a2e6-4df6-edfa-3763a0d23040"
      },
      "source": [
        "all_results.train_res"
      ],
      "execution_count": 68,
      "outputs": [
        {
          "output_type": "execute_result",
          "data": {
            "text/html": [
              "<div>\n",
              "<style scoped>\n",
              "    .dataframe tbody tr th:only-of-type {\n",
              "        vertical-align: middle;\n",
              "    }\n",
              "\n",
              "    .dataframe tbody tr th {\n",
              "        vertical-align: top;\n",
              "    }\n",
              "\n",
              "    .dataframe thead th {\n",
              "        text-align: right;\n",
              "    }\n",
              "</style>\n",
              "<table border=\"1\" class=\"dataframe\">\n",
              "  <thead>\n",
              "    <tr style=\"text-align: right;\">\n",
              "      <th></th>\n",
              "      <th>AUC</th>\n",
              "      <th>AUC PRC</th>\n",
              "      <th>F1</th>\n",
              "    </tr>\n",
              "  </thead>\n",
              "  <tbody>\n",
              "    <tr>\n",
              "      <th>PCA</th>\n",
              "      <td>0.947501</td>\n",
              "      <td>0.189318</td>\n",
              "      <td>0.352941</td>\n",
              "    </tr>\n",
              "  </tbody>\n",
              "</table>\n",
              "</div>"
            ],
            "text/plain": [
              "          AUC   AUC PRC        F1\n",
              "PCA  0.947501  0.189318  0.352941"
            ]
          },
          "metadata": {},
          "execution_count": 68
        }
      ]
    },
    {
      "cell_type": "code",
      "metadata": {
        "colab": {
          "base_uri": "https://localhost:8080/",
          "height": 0
        },
        "id": "MpR0y9NWQO4b",
        "outputId": "f490f904-d354-41ec-99c7-97fc3e05435b"
      },
      "source": [
        "all_results.val_res"
      ],
      "execution_count": 69,
      "outputs": [
        {
          "output_type": "execute_result",
          "data": {
            "text/html": [
              "<div>\n",
              "<style scoped>\n",
              "    .dataframe tbody tr th:only-of-type {\n",
              "        vertical-align: middle;\n",
              "    }\n",
              "\n",
              "    .dataframe tbody tr th {\n",
              "        vertical-align: top;\n",
              "    }\n",
              "\n",
              "    .dataframe thead th {\n",
              "        text-align: right;\n",
              "    }\n",
              "</style>\n",
              "<table border=\"1\" class=\"dataframe\">\n",
              "  <thead>\n",
              "    <tr style=\"text-align: right;\">\n",
              "      <th></th>\n",
              "      <th>AUC</th>\n",
              "      <th>AUC PRC</th>\n",
              "      <th>F1</th>\n",
              "    </tr>\n",
              "  </thead>\n",
              "  <tbody>\n",
              "    <tr>\n",
              "      <th>PCA</th>\n",
              "      <td>0.955023</td>\n",
              "      <td>0.206501</td>\n",
              "      <td>0.45</td>\n",
              "    </tr>\n",
              "  </tbody>\n",
              "</table>\n",
              "</div>"
            ],
            "text/plain": [
              "          AUC   AUC PRC    F1\n",
              "PCA  0.955023  0.206501  0.45"
            ]
          },
          "metadata": {},
          "execution_count": 69
        }
      ]
    },
    {
      "cell_type": "code",
      "metadata": {
        "colab": {
          "base_uri": "https://localhost:8080/",
          "height": 0
        },
        "id": "WZIj3tcFQQzE",
        "outputId": "e1e49bc2-c42d-44f0-e4e7-79652ea35be4"
      },
      "source": [
        "all_results.test_res"
      ],
      "execution_count": 70,
      "outputs": [
        {
          "output_type": "execute_result",
          "data": {
            "text/html": [
              "<div>\n",
              "<style scoped>\n",
              "    .dataframe tbody tr th:only-of-type {\n",
              "        vertical-align: middle;\n",
              "    }\n",
              "\n",
              "    .dataframe tbody tr th {\n",
              "        vertical-align: top;\n",
              "    }\n",
              "\n",
              "    .dataframe thead th {\n",
              "        text-align: right;\n",
              "    }\n",
              "</style>\n",
              "<table border=\"1\" class=\"dataframe\">\n",
              "  <thead>\n",
              "    <tr style=\"text-align: right;\">\n",
              "      <th></th>\n",
              "      <th>AUC</th>\n",
              "      <th>AUC PRC</th>\n",
              "      <th>F1</th>\n",
              "    </tr>\n",
              "  </thead>\n",
              "  <tbody>\n",
              "    <tr>\n",
              "      <th>PCA</th>\n",
              "      <td>0.97345</td>\n",
              "      <td>0.171445</td>\n",
              "      <td>0.16</td>\n",
              "    </tr>\n",
              "  </tbody>\n",
              "</table>\n",
              "</div>"
            ],
            "text/plain": [
              "         AUC   AUC PRC    F1\n",
              "PCA  0.97345  0.171445  0.16"
            ]
          },
          "metadata": {},
          "execution_count": 70
        }
      ]
    },
    {
      "cell_type": "markdown",
      "metadata": {
        "id": "r1ufoXSsvfNM"
      },
      "source": [
        "# Kernel PCA (kPCA) (Untestable due to memory issues)"
      ]
    },
    {
      "cell_type": "markdown",
      "metadata": {
        "id": "dFiHI7pV1FW9"
      },
      "source": [
        "We were unable to test kernel PCA as we could not allocate enough memory for the process\n",
        "\n"
      ]
    },
    {
      "cell_type": "code",
      "metadata": {
        "id": "teiYwT7tx1lm"
      },
      "source": [
        "# from sklearn.decomposition import KernelPCA\n",
        "# n_components = 30\n",
        "\n",
        "# kpca = KernelPCA(kernel = \"rbf\", #gaussian kernel\n",
        "#                  n_components=n_components, \n",
        "#                  random_state=random_state, copy_X=False, fit_inverse_transform=True) \n",
        "\n",
        "# # Fit only on non-anomalies\n",
        "# kpca.fit(X_train_cleaned_0s)\n",
        "\n",
        "# # Decomposition\n",
        "# X_train_cleaned_kPCA = pd.DataFrame(data=X_train_cleaned, index=X_train.index)\n",
        "\n",
        "# # Reconstruction \n",
        "# X_train_cleaned_kPCA_inverse = pca.inverse_transform(X_train_cleaned_kPCA)\n",
        "# X_train_cleaned_kPCA_inverse = pd.DataFrame(data=X_train_cleaned_kPCA_inverse,\n",
        "#                                    index=X_train.index)\n",
        "\n",
        "# def get_kPCA_anomaly_Scores(data, kpca):\n",
        "#     # Decomposition\n",
        "#     data_cleaned_kPCA = pd.DataFrame(data=data, index=data.index)\n",
        "\n",
        "#     # Reconstruction \n",
        "#     data_cleaned_kPCA_inverse = kpca.inverse_transform(data_cleaned_kPCA)\n",
        "#     data_cleaned_kPCA_inverse = pd.DataFrame(data=data_cleaned_kPCA_inverse,\n",
        "#                                    index=data.index)\n",
        "\n",
        "#     return anomalyScores(data, data_cleaned_kPCA_inverse)\n"
      ],
      "execution_count": 18,
      "outputs": []
    },
    {
      "cell_type": "code",
      "metadata": {
        "id": "LIrloS9d7rXY"
      },
      "source": [
        "# X_train_kPCA_scores = get_kPCA_anomaly_Scores(X_train_cleaned, kpca)\n",
        "# X_val_kPCA_scores = get_kPCA_anomaly_Scores(X_val_cleaned, kpca)\n",
        "# kpca.fit(X_train_val_cleaned_0s)\n",
        "# X_train_val_kPCA_scores = get_kPCA_anomaly_Scores(X_train_val_cleaned, kpca)\n",
        "# X_test_kPCA_scores = get_kPCA_anomaly_Scores(X_test_cleaned, kpca)\n",
        "\n",
        "# all_results.add_results(X_train_kPCA_scores, X_val_kPCA_scores, X_train_val_kPCA_scores, X_test_kPCA_scores, \"kPCA\" )"
      ],
      "execution_count": 19,
      "outputs": []
    },
    {
      "cell_type": "code",
      "metadata": {
        "id": "5_y_cdFNPxzB"
      },
      "source": [
        "# all_results.train_res"
      ],
      "execution_count": 20,
      "outputs": []
    },
    {
      "cell_type": "code",
      "metadata": {
        "id": "T1y6oKR2Pz37"
      },
      "source": [
        "# all_results.val_res"
      ],
      "execution_count": 21,
      "outputs": []
    },
    {
      "cell_type": "code",
      "metadata": {
        "id": "-jSF_FbYP3qf"
      },
      "source": [
        "# all_results.test_res"
      ],
      "execution_count": 22,
      "outputs": []
    },
    {
      "cell_type": "markdown",
      "metadata": {
        "id": "rRDgKfbAaVY8"
      },
      "source": [
        "# AutoEncoder (AE)"
      ]
    },
    {
      "cell_type": "markdown",
      "metadata": {
        "id": "suYD4OCDEC5C"
      },
      "source": [
        "References: \n",
        "BT4012 Tutorial Codes"
      ]
    },
    {
      "cell_type": "code",
      "metadata": {
        "colab": {
          "base_uri": "https://localhost:8080/"
        },
        "id": "N_0Bmh_i1qoB",
        "outputId": "727ef558-85d2-4b80-8d02-02a6ebe02151"
      },
      "source": [
        "input_shape = 30\n",
        "encoding_dim  = 2\n",
        "intermediary_dims = [25, 20, 15, 10]\n",
        "batch_size = 128\n",
        "max_epochs = 1000\n",
        "activation = \"relu\"\n",
        "\n",
        "input_layer = Input(shape=(input_shape,))\n",
        "encoded = Dense(16, activation=activation)(input_layer)\n",
        "encoded = Dense(8, activation=activation)(encoded)\n",
        "encoded = Dense(4, activation=activation)(encoded)\n",
        "\n",
        "# bottleneck layer\n",
        "encoded = Dense(encoding_dim, activation=activation)(encoded)\n",
        "\n",
        "decoded = Dense(4, activation=activation)(encoded)\n",
        "decoded = Dense(8, activation=activation)(decoded)\n",
        "decoded = Dense(16, activation=activation)(decoded)\n",
        "decoded = Dense(input_shape)(decoded)\n",
        "\n",
        "autoencoder = Model(input_layer, decoded)\n",
        "encoder = Model(input_layer, encoded)\n",
        "decoder_layer1, decoder_layer2, decoder_layer3, decoder_layer4 = \\\n",
        "        autoencoder.layers[-1], autoencoder.layers[-2], autoencoder.layers[-3], autoencoder.layers[-4]\n",
        "\n",
        "\n",
        "encoded_input = Input(shape=(encoding_dim,))\n",
        "# create the decoder model\n",
        "decoder = Model(encoded_input, decoder_layer1(decoder_layer2(decoder_layer3(decoder_layer4(encoded_input)))))\n",
        "\n",
        "\n",
        "autoencoder.compile(optimizer=tf.keras.optimizers.Nadam(), \n",
        "            loss=\"mse\")\n",
        "encoder.summary()\n",
        "decoder.summary()\n",
        "autoencoder.summary()"
      ],
      "execution_count": 23,
      "outputs": [
        {
          "output_type": "stream",
          "name": "stdout",
          "text": [
            "Model: \"model_1\"\n",
            "_________________________________________________________________\n",
            " Layer (type)                Output Shape              Param #   \n",
            "=================================================================\n",
            " input_1 (InputLayer)        [(None, 30)]              0         \n",
            "                                                                 \n",
            " dense (Dense)               (None, 16)                496       \n",
            "                                                                 \n",
            " dense_1 (Dense)             (None, 8)                 136       \n",
            "                                                                 \n",
            " dense_2 (Dense)             (None, 4)                 36        \n",
            "                                                                 \n",
            " dense_3 (Dense)             (None, 2)                 10        \n",
            "                                                                 \n",
            "=================================================================\n",
            "Total params: 678\n",
            "Trainable params: 678\n",
            "Non-trainable params: 0\n",
            "_________________________________________________________________\n",
            "Model: \"model_2\"\n",
            "_________________________________________________________________\n",
            " Layer (type)                Output Shape              Param #   \n",
            "=================================================================\n",
            " input_2 (InputLayer)        [(None, 2)]               0         \n",
            "                                                                 \n",
            " dense_4 (Dense)             (None, 4)                 12        \n",
            "                                                                 \n",
            " dense_5 (Dense)             (None, 8)                 40        \n",
            "                                                                 \n",
            " dense_6 (Dense)             (None, 16)                144       \n",
            "                                                                 \n",
            " dense_7 (Dense)             (None, 30)                510       \n",
            "                                                                 \n",
            "=================================================================\n",
            "Total params: 706\n",
            "Trainable params: 706\n",
            "Non-trainable params: 0\n",
            "_________________________________________________________________\n",
            "Model: \"model\"\n",
            "_________________________________________________________________\n",
            " Layer (type)                Output Shape              Param #   \n",
            "=================================================================\n",
            " input_1 (InputLayer)        [(None, 30)]              0         \n",
            "                                                                 \n",
            " dense (Dense)               (None, 16)                496       \n",
            "                                                                 \n",
            " dense_1 (Dense)             (None, 8)                 136       \n",
            "                                                                 \n",
            " dense_2 (Dense)             (None, 4)                 36        \n",
            "                                                                 \n",
            " dense_3 (Dense)             (None, 2)                 10        \n",
            "                                                                 \n",
            " dense_4 (Dense)             (None, 4)                 12        \n",
            "                                                                 \n",
            " dense_5 (Dense)             (None, 8)                 40        \n",
            "                                                                 \n",
            " dense_6 (Dense)             (None, 16)                144       \n",
            "                                                                 \n",
            " dense_7 (Dense)             (None, 30)                510       \n",
            "                                                                 \n",
            "=================================================================\n",
            "Total params: 1,384\n",
            "Trainable params: 1,384\n",
            "Non-trainable params: 0\n",
            "_________________________________________________________________\n"
          ]
        }
      ]
    },
    {
      "cell_type": "code",
      "metadata": {
        "colab": {
          "base_uri": "https://localhost:8080/"
        },
        "id": "OV9xi2196XN3",
        "outputId": "18f1ac2c-5726-462d-a57b-a2fc89522f0e"
      },
      "source": [
        "checkpointer = ModelCheckpoint(filepath='AE_train_bestmodel.h5', verbose=0, save_best_only=True)\n",
        "earlystopper = EarlyStopping(monitor='val_loss', mode='min', min_delta=0.005, patience=20, verbose=0, restore_best_weights=True)\n",
        "reduceLR = ReduceLROnPlateau(monitor='val_loss', factor=0.2, patience=2, min_lr=0.0001)\n",
        "hist = autoencoder.fit(X_train_cleaned_0s, X_train_cleaned_0s,\n",
        "               epochs=max_epochs,\n",
        "               shuffle=True,\n",
        "               verbose=1,\n",
        "               validation_data= (X_val_cleaned_0s, X_val_cleaned_0s),\n",
        "               callbacks=[checkpointer, earlystopper, reduceLR])\n",
        "\n",
        "autoencoder_train = autoencoder"
      ],
      "execution_count": 24,
      "outputs": [
        {
          "output_type": "stream",
          "name": "stdout",
          "text": [
            "Epoch 1/1000\n",
            "2340/2340 [==============================] - 19s 7ms/step - loss: 1.2512 - val_loss: 0.8851 - lr: 0.0010\n",
            "Epoch 2/1000\n",
            "2340/2340 [==============================] - 17s 7ms/step - loss: 0.8617 - val_loss: 0.8364 - lr: 0.0010\n",
            "Epoch 3/1000\n",
            "2340/2340 [==============================] - 18s 8ms/step - loss: 0.8246 - val_loss: 0.8011 - lr: 0.0010\n",
            "Epoch 4/1000\n",
            "2340/2340 [==============================] - 17s 7ms/step - loss: 0.8012 - val_loss: 0.7769 - lr: 0.0010\n",
            "Epoch 5/1000\n",
            "2340/2340 [==============================] - 16s 7ms/step - loss: 0.7786 - val_loss: 0.7606 - lr: 0.0010\n",
            "Epoch 6/1000\n",
            "2340/2340 [==============================] - 17s 7ms/step - loss: 0.7650 - val_loss: 0.7479 - lr: 0.0010\n",
            "Epoch 7/1000\n",
            "2340/2340 [==============================] - 17s 7ms/step - loss: 0.7569 - val_loss: 0.7419 - lr: 0.0010\n",
            "Epoch 8/1000\n",
            "2340/2340 [==============================] - 17s 7ms/step - loss: 0.7518 - val_loss: 0.7401 - lr: 0.0010\n",
            "Epoch 9/1000\n",
            "2340/2340 [==============================] - 16s 7ms/step - loss: 0.7486 - val_loss: 0.7359 - lr: 0.0010\n",
            "Epoch 10/1000\n",
            "2340/2340 [==============================] - 16s 7ms/step - loss: 0.7454 - val_loss: 0.7368 - lr: 0.0010\n",
            "Epoch 11/1000\n",
            "2340/2340 [==============================] - 17s 7ms/step - loss: 0.7447 - val_loss: 0.7341 - lr: 0.0010\n",
            "Epoch 12/1000\n",
            "2340/2340 [==============================] - 17s 7ms/step - loss: 0.7418 - val_loss: 0.7339 - lr: 0.0010\n",
            "Epoch 13/1000\n",
            "2340/2340 [==============================] - 16s 7ms/step - loss: 0.7396 - val_loss: 0.7310 - lr: 0.0010\n",
            "Epoch 14/1000\n",
            "2340/2340 [==============================] - 18s 8ms/step - loss: 0.7390 - val_loss: 0.7292 - lr: 0.0010\n",
            "Epoch 15/1000\n",
            "2340/2340 [==============================] - 17s 7ms/step - loss: 0.7353 - val_loss: 0.7247 - lr: 0.0010\n",
            "Epoch 16/1000\n",
            "2340/2340 [==============================] - 16s 7ms/step - loss: 0.7329 - val_loss: 0.7220 - lr: 0.0010\n",
            "Epoch 17/1000\n",
            "2340/2340 [==============================] - 17s 7ms/step - loss: 0.7308 - val_loss: 0.7217 - lr: 0.0010\n",
            "Epoch 18/1000\n",
            "2340/2340 [==============================] - 16s 7ms/step - loss: 0.7299 - val_loss: 0.7206 - lr: 0.0010\n",
            "Epoch 19/1000\n",
            "2340/2340 [==============================] - 17s 7ms/step - loss: 0.7292 - val_loss: 0.7174 - lr: 0.0010\n",
            "Epoch 20/1000\n",
            "2340/2340 [==============================] - 17s 7ms/step - loss: 0.7278 - val_loss: 0.7181 - lr: 0.0010\n",
            "Epoch 21/1000\n",
            "2340/2340 [==============================] - 17s 7ms/step - loss: 0.7263 - val_loss: 0.7147 - lr: 0.0010\n",
            "Epoch 22/1000\n",
            "2340/2340 [==============================] - 16s 7ms/step - loss: 0.7250 - val_loss: 0.7183 - lr: 0.0010\n",
            "Epoch 23/1000\n",
            "2340/2340 [==============================] - 17s 7ms/step - loss: 0.7233 - val_loss: 0.7155 - lr: 0.0010\n",
            "Epoch 24/1000\n",
            "2340/2340 [==============================] - 16s 7ms/step - loss: 0.7169 - val_loss: 0.7085 - lr: 2.0000e-04\n",
            "Epoch 25/1000\n",
            "2340/2340 [==============================] - 18s 8ms/step - loss: 0.7142 - val_loss: 0.7068 - lr: 2.0000e-04\n",
            "Epoch 26/1000\n",
            "2340/2340 [==============================] - 17s 7ms/step - loss: 0.7146 - val_loss: 0.7106 - lr: 2.0000e-04\n",
            "Epoch 27/1000\n",
            "2340/2340 [==============================] - 16s 7ms/step - loss: 0.7148 - val_loss: 0.7062 - lr: 2.0000e-04\n",
            "Epoch 28/1000\n",
            "2340/2340 [==============================] - 17s 7ms/step - loss: 0.7121 - val_loss: 0.7063 - lr: 2.0000e-04\n",
            "Epoch 29/1000\n",
            "2340/2340 [==============================] - 17s 7ms/step - loss: 0.7117 - val_loss: 0.7049 - lr: 2.0000e-04\n",
            "Epoch 30/1000\n",
            "2340/2340 [==============================] - 16s 7ms/step - loss: 0.7106 - val_loss: 0.7036 - lr: 2.0000e-04\n",
            "Epoch 31/1000\n",
            "2340/2340 [==============================] - 17s 7ms/step - loss: 0.7105 - val_loss: 0.7039 - lr: 2.0000e-04\n",
            "Epoch 32/1000\n",
            "2340/2340 [==============================] - 17s 7ms/step - loss: 0.7102 - val_loss: 0.7035 - lr: 2.0000e-04\n",
            "Epoch 33/1000\n",
            "2340/2340 [==============================] - 17s 7ms/step - loss: 0.7083 - val_loss: 0.7030 - lr: 1.0000e-04\n",
            "Epoch 34/1000\n",
            "2340/2340 [==============================] - 17s 7ms/step - loss: 0.7077 - val_loss: 0.7029 - lr: 1.0000e-04\n",
            "Epoch 35/1000\n",
            "2340/2340 [==============================] - 16s 7ms/step - loss: 0.7068 - val_loss: 0.7020 - lr: 1.0000e-04\n",
            "Epoch 36/1000\n",
            "2340/2340 [==============================] - 17s 7ms/step - loss: 0.7067 - val_loss: 0.7021 - lr: 1.0000e-04\n",
            "Epoch 37/1000\n",
            "2340/2340 [==============================] - 17s 7ms/step - loss: 0.7060 - val_loss: 0.7013 - lr: 1.0000e-04\n",
            "Epoch 38/1000\n",
            "2340/2340 [==============================] - 17s 7ms/step - loss: 0.7065 - val_loss: 0.7005 - lr: 1.0000e-04\n",
            "Epoch 39/1000\n",
            "2340/2340 [==============================] - 17s 7ms/step - loss: 0.7053 - val_loss: 0.7013 - lr: 1.0000e-04\n",
            "Epoch 40/1000\n",
            "2340/2340 [==============================] - 17s 7ms/step - loss: 0.7053 - val_loss: 0.7012 - lr: 1.0000e-04\n",
            "Epoch 41/1000\n",
            "2340/2340 [==============================] - 17s 7ms/step - loss: 0.7056 - val_loss: 0.7021 - lr: 1.0000e-04\n",
            "Epoch 42/1000\n",
            "2340/2340 [==============================] - 17s 7ms/step - loss: 0.7053 - val_loss: 0.7010 - lr: 1.0000e-04\n",
            "Epoch 43/1000\n",
            "2340/2340 [==============================] - 17s 7ms/step - loss: 0.7052 - val_loss: 0.7005 - lr: 1.0000e-04\n",
            "Epoch 44/1000\n",
            "2340/2340 [==============================] - 17s 7ms/step - loss: 0.7049 - val_loss: 0.7006 - lr: 1.0000e-04\n",
            "Epoch 45/1000\n",
            "2340/2340 [==============================] - 17s 7ms/step - loss: 0.7047 - val_loss: 0.7003 - lr: 1.0000e-04\n",
            "Epoch 46/1000\n",
            "2340/2340 [==============================] - 17s 7ms/step - loss: 0.7045 - val_loss: 0.7000 - lr: 1.0000e-04\n",
            "Epoch 47/1000\n",
            "2340/2340 [==============================] - 17s 7ms/step - loss: 0.7040 - val_loss: 0.6990 - lr: 1.0000e-04\n",
            "Epoch 48/1000\n",
            "2340/2340 [==============================] - 17s 7ms/step - loss: 0.7034 - val_loss: 0.6992 - lr: 1.0000e-04\n",
            "Epoch 49/1000\n",
            "2340/2340 [==============================] - 18s 8ms/step - loss: 0.7031 - val_loss: 0.6990 - lr: 1.0000e-04\n",
            "Epoch 50/1000\n",
            "2340/2340 [==============================] - 16s 7ms/step - loss: 0.7032 - val_loss: 0.6994 - lr: 1.0000e-04\n",
            "Epoch 51/1000\n",
            "2340/2340 [==============================] - 17s 7ms/step - loss: 0.7024 - val_loss: 0.6988 - lr: 1.0000e-04\n",
            "Epoch 52/1000\n",
            "2340/2340 [==============================] - 17s 7ms/step - loss: 0.7024 - val_loss: 0.6978 - lr: 1.0000e-04\n",
            "Epoch 53/1000\n",
            "2340/2340 [==============================] - 17s 7ms/step - loss: 0.7021 - val_loss: 0.6981 - lr: 1.0000e-04\n",
            "Epoch 54/1000\n",
            "2340/2340 [==============================] - 18s 8ms/step - loss: 0.7018 - val_loss: 0.6993 - lr: 1.0000e-04\n",
            "Epoch 55/1000\n",
            "2340/2340 [==============================] - 18s 8ms/step - loss: 0.7016 - val_loss: 0.6980 - lr: 1.0000e-04\n",
            "Epoch 56/1000\n",
            "2340/2340 [==============================] - 17s 7ms/step - loss: 0.7012 - val_loss: 0.6977 - lr: 1.0000e-04\n",
            "Epoch 57/1000\n",
            "2340/2340 [==============================] - 17s 7ms/step - loss: 0.7009 - val_loss: 0.6973 - lr: 1.0000e-04\n",
            "Epoch 58/1000\n",
            "2340/2340 [==============================] - 18s 7ms/step - loss: 0.7005 - val_loss: 0.6972 - lr: 1.0000e-04\n",
            "Epoch 59/1000\n",
            "2340/2340 [==============================] - 17s 7ms/step - loss: 0.7002 - val_loss: 0.6976 - lr: 1.0000e-04\n",
            "Epoch 60/1000\n",
            "2340/2340 [==============================] - 17s 7ms/step - loss: 0.7003 - val_loss: 0.6972 - lr: 1.0000e-04\n",
            "Epoch 61/1000\n",
            "2340/2340 [==============================] - 17s 7ms/step - loss: 0.6996 - val_loss: 0.6951 - lr: 1.0000e-04\n",
            "Epoch 62/1000\n",
            "2340/2340 [==============================] - 17s 7ms/step - loss: 0.6993 - val_loss: 0.6959 - lr: 1.0000e-04\n",
            "Epoch 63/1000\n",
            "2340/2340 [==============================] - 17s 7ms/step - loss: 0.6994 - val_loss: 0.6954 - lr: 1.0000e-04\n",
            "Epoch 64/1000\n",
            "2340/2340 [==============================] - 17s 7ms/step - loss: 0.6998 - val_loss: 0.6958 - lr: 1.0000e-04\n",
            "Epoch 65/1000\n",
            "2340/2340 [==============================] - 17s 7ms/step - loss: 0.6988 - val_loss: 0.6960 - lr: 1.0000e-04\n",
            "Epoch 66/1000\n",
            "2340/2340 [==============================] - 17s 7ms/step - loss: 0.6990 - val_loss: 0.6964 - lr: 1.0000e-04\n",
            "Epoch 67/1000\n",
            "2340/2340 [==============================] - 17s 7ms/step - loss: 0.6985 - val_loss: 0.6943 - lr: 1.0000e-04\n",
            "Epoch 68/1000\n",
            "2340/2340 [==============================] - 17s 7ms/step - loss: 0.6981 - val_loss: 0.6943 - lr: 1.0000e-04\n",
            "Epoch 69/1000\n",
            "2340/2340 [==============================] - 18s 8ms/step - loss: 0.6981 - val_loss: 0.6954 - lr: 1.0000e-04\n",
            "Epoch 70/1000\n",
            "2340/2340 [==============================] - 18s 8ms/step - loss: 0.6975 - val_loss: 0.6948 - lr: 1.0000e-04\n",
            "Epoch 71/1000\n",
            "2340/2340 [==============================] - 17s 7ms/step - loss: 0.6972 - val_loss: 0.6947 - lr: 1.0000e-04\n",
            "Epoch 72/1000\n",
            "2340/2340 [==============================] - 17s 7ms/step - loss: 0.6971 - val_loss: 0.6938 - lr: 1.0000e-04\n"
          ]
        }
      ]
    },
    {
      "cell_type": "code",
      "metadata": {
        "id": "vTm5vsHZV7Nm",
        "colab": {
          "base_uri": "https://localhost:8080/"
        },
        "outputId": "44550aaa-8a86-4505-cbbe-072ae04bb85f"
      },
      "source": [
        "checkpointer = ModelCheckpoint(filepath='AE_train_val_bestmodel.h5', verbose=0, save_best_only=True, monitor='loss')\n",
        "earlystopper = EarlyStopping(monitor='loss', mode='min', min_delta=0.005, patience=20, verbose=0, restore_best_weights=True)\n",
        "reduceLR = ReduceLROnPlateau(monitor='loss', factor=0.2, patience=2, min_lr=0.0001)\n",
        "\n",
        "hist = autoencoder.fit(X_train_val_cleaned_0s, X_train_val_cleaned_0s,\n",
        "               epochs=max_epochs,\n",
        "               shuffle=True,\n",
        "               verbose=1,\n",
        "               callbacks=[checkpointer, earlystopper, reduceLR])\n",
        "\n",
        "autoencoder_train_val = autoencoder"
      ],
      "execution_count": 25,
      "outputs": [
        {
          "output_type": "stream",
          "name": "stdout",
          "text": [
            "Epoch 1/1000\n",
            "2730/2730 [==============================] - 20s 7ms/step - loss: 0.7017 - lr: 1.0000e-04\n",
            "Epoch 2/1000\n",
            "2730/2730 [==============================] - 19s 7ms/step - loss: 0.7009 - lr: 1.0000e-04\n",
            "Epoch 3/1000\n",
            "2730/2730 [==============================] - 19s 7ms/step - loss: 0.7006 - lr: 1.0000e-04\n",
            "Epoch 4/1000\n",
            "2730/2730 [==============================] - 19s 7ms/step - loss: 0.7003 - lr: 1.0000e-04\n",
            "Epoch 5/1000\n",
            "2730/2730 [==============================] - 18s 7ms/step - loss: 0.7003 - lr: 1.0000e-04\n",
            "Epoch 6/1000\n",
            "2730/2730 [==============================] - 19s 7ms/step - loss: 0.7001 - lr: 1.0000e-04\n",
            "Epoch 7/1000\n",
            "2730/2730 [==============================] - 18s 7ms/step - loss: 0.7002 - lr: 1.0000e-04\n",
            "Epoch 8/1000\n",
            "2730/2730 [==============================] - 18s 6ms/step - loss: 0.7002 - lr: 1.0000e-04\n",
            "Epoch 9/1000\n",
            "2730/2730 [==============================] - 18s 7ms/step - loss: 0.6991 - lr: 1.0000e-04\n",
            "Epoch 10/1000\n",
            "2730/2730 [==============================] - 18s 7ms/step - loss: 0.6987 - lr: 1.0000e-04\n",
            "Epoch 11/1000\n",
            "2730/2730 [==============================] - 19s 7ms/step - loss: 0.6983 - lr: 1.0000e-04\n",
            "Epoch 12/1000\n",
            "2730/2730 [==============================] - 19s 7ms/step - loss: 0.6981 - lr: 1.0000e-04\n",
            "Epoch 13/1000\n",
            "2730/2730 [==============================] - 18s 7ms/step - loss: 0.6992 - lr: 1.0000e-04\n",
            "Epoch 14/1000\n",
            "2730/2730 [==============================] - 18s 6ms/step - loss: 0.6987 - lr: 1.0000e-04\n",
            "Epoch 15/1000\n",
            "2730/2730 [==============================] - 19s 7ms/step - loss: 0.6977 - lr: 1.0000e-04\n",
            "Epoch 16/1000\n",
            "2730/2730 [==============================] - 18s 7ms/step - loss: 0.6971 - lr: 1.0000e-04\n",
            "Epoch 17/1000\n",
            "2730/2730 [==============================] - 19s 7ms/step - loss: 0.6970 - lr: 1.0000e-04\n",
            "Epoch 18/1000\n",
            "2730/2730 [==============================] - 18s 7ms/step - loss: 0.6962 - lr: 1.0000e-04\n",
            "Epoch 19/1000\n",
            "2730/2730 [==============================] - 18s 7ms/step - loss: 0.6967 - lr: 1.0000e-04\n",
            "Epoch 20/1000\n",
            "2730/2730 [==============================] - 18s 7ms/step - loss: 0.6960 - lr: 1.0000e-04\n",
            "Epoch 21/1000\n",
            "2730/2730 [==============================] - 18s 7ms/step - loss: 0.6960 - lr: 1.0000e-04\n",
            "Epoch 22/1000\n",
            "2730/2730 [==============================] - 17s 6ms/step - loss: 0.6951 - lr: 1.0000e-04\n",
            "Epoch 23/1000\n",
            "2730/2730 [==============================] - 20s 7ms/step - loss: 0.6947 - lr: 1.0000e-04\n",
            "Epoch 24/1000\n",
            "2730/2730 [==============================] - 19s 7ms/step - loss: 0.6944 - lr: 1.0000e-04\n",
            "Epoch 25/1000\n",
            "2730/2730 [==============================] - 18s 7ms/step - loss: 0.6941 - lr: 1.0000e-04\n",
            "Epoch 26/1000\n",
            "2730/2730 [==============================] - 18s 7ms/step - loss: 0.6939 - lr: 1.0000e-04\n",
            "Epoch 27/1000\n",
            "2730/2730 [==============================] - 19s 7ms/step - loss: 0.6937 - lr: 1.0000e-04\n",
            "Epoch 28/1000\n",
            "2730/2730 [==============================] - 19s 7ms/step - loss: 0.6935 - lr: 1.0000e-04\n",
            "Epoch 29/1000\n",
            "2730/2730 [==============================] - 17s 6ms/step - loss: 0.6930 - lr: 1.0000e-04\n",
            "Epoch 30/1000\n",
            "2730/2730 [==============================] - 19s 7ms/step - loss: 0.6932 - lr: 1.0000e-04\n",
            "Epoch 31/1000\n",
            "2730/2730 [==============================] - 18s 7ms/step - loss: 0.6924 - lr: 1.0000e-04\n",
            "Epoch 32/1000\n",
            "2730/2730 [==============================] - 18s 7ms/step - loss: 0.6921 - lr: 1.0000e-04\n",
            "Epoch 33/1000\n",
            "2730/2730 [==============================] - 19s 7ms/step - loss: 0.6917 - lr: 1.0000e-04\n",
            "Epoch 34/1000\n",
            "2730/2730 [==============================] - 18s 7ms/step - loss: 0.6921 - lr: 1.0000e-04\n",
            "Epoch 35/1000\n",
            "2730/2730 [==============================] - 18s 7ms/step - loss: 0.6922 - lr: 1.0000e-04\n",
            "Epoch 36/1000\n",
            "2730/2730 [==============================] - 19s 7ms/step - loss: 0.6912 - lr: 1.0000e-04\n",
            "Epoch 37/1000\n",
            "2730/2730 [==============================] - 18s 7ms/step - loss: 0.6912 - lr: 1.0000e-04\n",
            "Epoch 38/1000\n",
            "2730/2730 [==============================] - 18s 7ms/step - loss: 0.6910 - lr: 1.0000e-04\n",
            "Epoch 39/1000\n",
            "2730/2730 [==============================] - 18s 7ms/step - loss: 0.6904 - lr: 1.0000e-04\n",
            "Epoch 40/1000\n",
            "2730/2730 [==============================] - 19s 7ms/step - loss: 0.6901 - lr: 1.0000e-04\n",
            "Epoch 41/1000\n",
            "2730/2730 [==============================] - 18s 7ms/step - loss: 0.6894 - lr: 1.0000e-04\n",
            "Epoch 42/1000\n",
            "2730/2730 [==============================] - 18s 7ms/step - loss: 0.6898 - lr: 1.0000e-04\n",
            "Epoch 43/1000\n",
            "2730/2730 [==============================] - 19s 7ms/step - loss: 0.6890 - lr: 1.0000e-04\n",
            "Epoch 44/1000\n",
            "2730/2730 [==============================] - 18s 7ms/step - loss: 0.6887 - lr: 1.0000e-04\n",
            "Epoch 45/1000\n",
            "2730/2730 [==============================] - 18s 7ms/step - loss: 0.6886 - lr: 1.0000e-04\n",
            "Epoch 46/1000\n",
            "2730/2730 [==============================] - 19s 7ms/step - loss: 0.6881 - lr: 1.0000e-04\n",
            "Epoch 47/1000\n",
            "2730/2730 [==============================] - 19s 7ms/step - loss: 0.6878 - lr: 1.0000e-04\n",
            "Epoch 48/1000\n",
            "2730/2730 [==============================] - 18s 7ms/step - loss: 0.6886 - lr: 1.0000e-04\n",
            "Epoch 49/1000\n",
            "2730/2730 [==============================] - 18s 7ms/step - loss: 0.6885 - lr: 1.0000e-04\n",
            "Epoch 50/1000\n",
            "2730/2730 [==============================] - 19s 7ms/step - loss: 0.6891 - lr: 1.0000e-04\n",
            "Epoch 51/1000\n",
            "2730/2730 [==============================] - 18s 7ms/step - loss: 0.6881 - lr: 1.0000e-04\n",
            "Epoch 52/1000\n",
            "2730/2730 [==============================] - 18s 7ms/step - loss: 0.6877 - lr: 1.0000e-04\n",
            "Epoch 53/1000\n",
            "2730/2730 [==============================] - 19s 7ms/step - loss: 0.6871 - lr: 1.0000e-04\n",
            "Epoch 54/1000\n",
            "2730/2730 [==============================] - 19s 7ms/step - loss: 0.6865 - lr: 1.0000e-04\n",
            "Epoch 55/1000\n",
            "2730/2730 [==============================] - 19s 7ms/step - loss: 0.6859 - lr: 1.0000e-04\n",
            "Epoch 56/1000\n",
            "2730/2730 [==============================] - 18s 7ms/step - loss: 0.6853 - lr: 1.0000e-04\n",
            "Epoch 57/1000\n",
            "2730/2730 [==============================] - 19s 7ms/step - loss: 0.6856 - lr: 1.0000e-04\n",
            "Epoch 58/1000\n",
            "2730/2730 [==============================] - 18s 7ms/step - loss: 0.6846 - lr: 1.0000e-04\n",
            "Epoch 59/1000\n",
            "2730/2730 [==============================] - 18s 7ms/step - loss: 0.6843 - lr: 1.0000e-04\n",
            "Epoch 60/1000\n",
            "2730/2730 [==============================] - 18s 6ms/step - loss: 0.6839 - lr: 1.0000e-04\n",
            "Epoch 61/1000\n",
            "2730/2730 [==============================] - 18s 7ms/step - loss: 0.6837 - lr: 1.0000e-04\n",
            "Epoch 62/1000\n",
            "2730/2730 [==============================] - 20s 7ms/step - loss: 0.6836 - lr: 1.0000e-04\n",
            "Epoch 63/1000\n",
            "2730/2730 [==============================] - 18s 7ms/step - loss: 0.6836 - lr: 1.0000e-04\n",
            "Epoch 64/1000\n",
            "2730/2730 [==============================] - 19s 7ms/step - loss: 0.6829 - lr: 1.0000e-04\n",
            "Epoch 65/1000\n",
            "2730/2730 [==============================] - 17s 6ms/step - loss: 0.6826 - lr: 1.0000e-04\n",
            "Epoch 66/1000\n",
            "2730/2730 [==============================] - 18s 7ms/step - loss: 0.6827 - lr: 1.0000e-04\n",
            "Epoch 67/1000\n",
            "2730/2730 [==============================] - 19s 7ms/step - loss: 0.6823 - lr: 1.0000e-04\n",
            "Epoch 68/1000\n",
            "2730/2730 [==============================] - 18s 7ms/step - loss: 0.6821 - lr: 1.0000e-04\n",
            "Epoch 69/1000\n",
            "2730/2730 [==============================] - 19s 7ms/step - loss: 0.6826 - lr: 1.0000e-04\n",
            "Epoch 70/1000\n",
            "2730/2730 [==============================] - 18s 7ms/step - loss: 0.6816 - lr: 1.0000e-04\n",
            "Epoch 71/1000\n",
            "2730/2730 [==============================] - 18s 7ms/step - loss: 0.6812 - lr: 1.0000e-04\n",
            "Epoch 72/1000\n",
            "2730/2730 [==============================] - 19s 7ms/step - loss: 0.6810 - lr: 1.0000e-04\n",
            "Epoch 73/1000\n",
            "2730/2730 [==============================] - 19s 7ms/step - loss: 0.6817 - lr: 1.0000e-04\n",
            "Epoch 74/1000\n",
            "2730/2730 [==============================] - 19s 7ms/step - loss: 0.6808 - lr: 1.0000e-04\n",
            "Epoch 75/1000\n",
            "2730/2730 [==============================] - 19s 7ms/step - loss: 0.6807 - lr: 1.0000e-04\n",
            "Epoch 76/1000\n",
            "2730/2730 [==============================] - 18s 7ms/step - loss: 0.6805 - lr: 1.0000e-04\n",
            "Epoch 77/1000\n",
            "2730/2730 [==============================] - 19s 7ms/step - loss: 0.6809 - lr: 1.0000e-04\n",
            "Epoch 78/1000\n",
            "2730/2730 [==============================] - 18s 7ms/step - loss: 0.6805 - lr: 1.0000e-04\n",
            "Epoch 79/1000\n",
            "2730/2730 [==============================] - 18s 7ms/step - loss: 0.6808 - lr: 1.0000e-04\n",
            "Epoch 80/1000\n",
            "2730/2730 [==============================] - 19s 7ms/step - loss: 0.6796 - lr: 1.0000e-04\n",
            "Epoch 81/1000\n",
            "2730/2730 [==============================] - 19s 7ms/step - loss: 0.6796 - lr: 1.0000e-04\n",
            "Epoch 82/1000\n",
            "2730/2730 [==============================] - 18s 7ms/step - loss: 0.6794 - lr: 1.0000e-04\n",
            "Epoch 83/1000\n",
            "2730/2730 [==============================] - 18s 7ms/step - loss: 0.6802 - lr: 1.0000e-04\n",
            "Epoch 84/1000\n",
            "2730/2730 [==============================] - 18s 7ms/step - loss: 0.6795 - lr: 1.0000e-04\n",
            "Epoch 85/1000\n",
            "2730/2730 [==============================] - 18s 7ms/step - loss: 0.6797 - lr: 1.0000e-04\n",
            "Epoch 86/1000\n",
            "2730/2730 [==============================] - 18s 7ms/step - loss: 0.6794 - lr: 1.0000e-04\n",
            "Epoch 87/1000\n",
            "2730/2730 [==============================] - 19s 7ms/step - loss: 0.6783 - lr: 1.0000e-04\n",
            "Epoch 88/1000\n",
            "2730/2730 [==============================] - 18s 7ms/step - loss: 0.6788 - lr: 1.0000e-04\n",
            "Epoch 89/1000\n",
            "2730/2730 [==============================] - 19s 7ms/step - loss: 0.6787 - lr: 1.0000e-04\n",
            "Epoch 90/1000\n",
            "2730/2730 [==============================] - 18s 7ms/step - loss: 0.6781 - lr: 1.0000e-04\n",
            "Epoch 91/1000\n",
            "2730/2730 [==============================] - 18s 7ms/step - loss: 0.6781 - lr: 1.0000e-04\n",
            "Epoch 92/1000\n",
            "2730/2730 [==============================] - 19s 7ms/step - loss: 0.6776 - lr: 1.0000e-04\n",
            "Epoch 93/1000\n",
            "2730/2730 [==============================] - 18s 7ms/step - loss: 0.6780 - lr: 1.0000e-04\n",
            "Epoch 94/1000\n",
            "2730/2730 [==============================] - 18s 7ms/step - loss: 0.6779 - lr: 1.0000e-04\n"
          ]
        }
      ]
    },
    {
      "cell_type": "code",
      "metadata": {
        "id": "wbJoW1JZRyjI",
        "colab": {
          "base_uri": "https://localhost:8080/"
        },
        "outputId": "b04e8510-c54a-49bf-e4f8-f457c85811a6"
      },
      "source": [
        "AE_X_train = autoencoder_train(X_train_cleaned.values)\n",
        "AE_X_val = autoencoder_train(X_val_cleaned.values)\n",
        "AE_X_train_val = autoencoder_train_val(X_train_val_cleaned.values)\n",
        "AE_X_test = autoencoder_train_val(X_test_cleaned.values)\n",
        "AE_train_scores = anomalyScores(X_train_cleaned, AE_X_train)\n",
        "AE_val_scores = anomalyScores(X_val_cleaned, AE_X_val)\n",
        "AE_train_val_scores = anomalyScores(X_train_val_cleaned, AE_X_train_val)\n",
        "AE_test_scores = anomalyScores(X_test_cleaned, AE_X_test)\n",
        "\n",
        "\n",
        "all_results.add_results(AE_train_scores, AE_val_scores, AE_train_val_scores, AE_test_scores, \"AE\" )\n"
      ],
      "execution_count": 71,
      "outputs": [
        {
          "output_type": "stream",
          "name": "stderr",
          "text": [
            "/usr/local/lib/python3.7/dist-packages/ipykernel_launcher.py:25: DeprecationWarning: The default dtype for empty Series will be 'object' instead of 'float64' in a future version. Specify a dtype explicitly to silence this warning.\n",
            "/usr/local/lib/python3.7/dist-packages/ipykernel_launcher.py:25: DeprecationWarning: The default dtype for empty Series will be 'object' instead of 'float64' in a future version. Specify a dtype explicitly to silence this warning.\n",
            "/usr/local/lib/python3.7/dist-packages/ipykernel_launcher.py:25: DeprecationWarning: The default dtype for empty Series will be 'object' instead of 'float64' in a future version. Specify a dtype explicitly to silence this warning.\n"
          ]
        }
      ]
    },
    {
      "cell_type": "code",
      "metadata": {
        "colab": {
          "base_uri": "https://localhost:8080/",
          "height": 110
        },
        "id": "Z8evXrg-XJv9",
        "outputId": "3488fec3-00ca-4ab6-f5aa-24e49b703f66"
      },
      "source": [
        "all_results.train_res"
      ],
      "execution_count": 72,
      "outputs": [
        {
          "output_type": "execute_result",
          "data": {
            "text/html": [
              "<div>\n",
              "<style scoped>\n",
              "    .dataframe tbody tr th:only-of-type {\n",
              "        vertical-align: middle;\n",
              "    }\n",
              "\n",
              "    .dataframe tbody tr th {\n",
              "        vertical-align: top;\n",
              "    }\n",
              "\n",
              "    .dataframe thead th {\n",
              "        text-align: right;\n",
              "    }\n",
              "</style>\n",
              "<table border=\"1\" class=\"dataframe\">\n",
              "  <thead>\n",
              "    <tr style=\"text-align: right;\">\n",
              "      <th></th>\n",
              "      <th>AUC</th>\n",
              "      <th>AUC PRC</th>\n",
              "      <th>F1</th>\n",
              "    </tr>\n",
              "  </thead>\n",
              "  <tbody>\n",
              "    <tr>\n",
              "      <th>PCA</th>\n",
              "      <td>0.947501</td>\n",
              "      <td>0.189318</td>\n",
              "      <td>0.352941</td>\n",
              "    </tr>\n",
              "    <tr>\n",
              "      <th>AE</th>\n",
              "      <td>0.956983</td>\n",
              "      <td>0.380441</td>\n",
              "      <td>0.404181</td>\n",
              "    </tr>\n",
              "  </tbody>\n",
              "</table>\n",
              "</div>"
            ],
            "text/plain": [
              "          AUC   AUC PRC        F1\n",
              "PCA  0.947501  0.189318  0.352941\n",
              "AE   0.956983  0.380441  0.404181"
            ]
          },
          "metadata": {},
          "execution_count": 72
        }
      ]
    },
    {
      "cell_type": "code",
      "metadata": {
        "colab": {
          "base_uri": "https://localhost:8080/",
          "height": 110
        },
        "id": "rnKpBfXcXLT_",
        "outputId": "a5bbe43b-a15b-4c4f-ee73-379b9f90aee0"
      },
      "source": [
        "all_results.val_res"
      ],
      "execution_count": 73,
      "outputs": [
        {
          "output_type": "execute_result",
          "data": {
            "text/html": [
              "<div>\n",
              "<style scoped>\n",
              "    .dataframe tbody tr th:only-of-type {\n",
              "        vertical-align: middle;\n",
              "    }\n",
              "\n",
              "    .dataframe tbody tr th {\n",
              "        vertical-align: top;\n",
              "    }\n",
              "\n",
              "    .dataframe thead th {\n",
              "        text-align: right;\n",
              "    }\n",
              "</style>\n",
              "<table border=\"1\" class=\"dataframe\">\n",
              "  <thead>\n",
              "    <tr style=\"text-align: right;\">\n",
              "      <th></th>\n",
              "      <th>AUC</th>\n",
              "      <th>AUC PRC</th>\n",
              "      <th>F1</th>\n",
              "    </tr>\n",
              "  </thead>\n",
              "  <tbody>\n",
              "    <tr>\n",
              "      <th>PCA</th>\n",
              "      <td>0.955023</td>\n",
              "      <td>0.206501</td>\n",
              "      <td>0.450000</td>\n",
              "    </tr>\n",
              "    <tr>\n",
              "      <th>AE</th>\n",
              "      <td>0.968501</td>\n",
              "      <td>0.360957</td>\n",
              "      <td>0.514286</td>\n",
              "    </tr>\n",
              "  </tbody>\n",
              "</table>\n",
              "</div>"
            ],
            "text/plain": [
              "          AUC   AUC PRC        F1\n",
              "PCA  0.955023  0.206501  0.450000\n",
              "AE   0.968501  0.360957  0.514286"
            ]
          },
          "metadata": {},
          "execution_count": 73
        }
      ]
    },
    {
      "cell_type": "code",
      "metadata": {
        "colab": {
          "base_uri": "https://localhost:8080/",
          "height": 110
        },
        "id": "NZOyHHtjXNBZ",
        "outputId": "25ce6cc9-02fb-4394-bd49-163d187b5f3c"
      },
      "source": [
        "all_results.test_res"
      ],
      "execution_count": 74,
      "outputs": [
        {
          "output_type": "execute_result",
          "data": {
            "text/html": [
              "<div>\n",
              "<style scoped>\n",
              "    .dataframe tbody tr th:only-of-type {\n",
              "        vertical-align: middle;\n",
              "    }\n",
              "\n",
              "    .dataframe tbody tr th {\n",
              "        vertical-align: top;\n",
              "    }\n",
              "\n",
              "    .dataframe thead th {\n",
              "        text-align: right;\n",
              "    }\n",
              "</style>\n",
              "<table border=\"1\" class=\"dataframe\">\n",
              "  <thead>\n",
              "    <tr style=\"text-align: right;\">\n",
              "      <th></th>\n",
              "      <th>AUC</th>\n",
              "      <th>AUC PRC</th>\n",
              "      <th>F1</th>\n",
              "    </tr>\n",
              "  </thead>\n",
              "  <tbody>\n",
              "    <tr>\n",
              "      <th>PCA</th>\n",
              "      <td>0.973450</td>\n",
              "      <td>0.171445</td>\n",
              "      <td>0.160000</td>\n",
              "    </tr>\n",
              "    <tr>\n",
              "      <th>AE</th>\n",
              "      <td>0.977295</td>\n",
              "      <td>0.426893</td>\n",
              "      <td>0.380952</td>\n",
              "    </tr>\n",
              "  </tbody>\n",
              "</table>\n",
              "</div>"
            ],
            "text/plain": [
              "          AUC   AUC PRC        F1\n",
              "PCA  0.973450  0.171445  0.160000\n",
              "AE   0.977295  0.426893  0.380952"
            ]
          },
          "metadata": {},
          "execution_count": 74
        }
      ]
    },
    {
      "cell_type": "markdown",
      "metadata": {
        "id": "sUMLKrq3vYTP"
      },
      "source": [
        "# Variational AutoEncoder (VAE)"
      ]
    },
    {
      "cell_type": "markdown",
      "metadata": {
        "id": "F3k8PRfv4Y3L"
      },
      "source": [
        "https://medium.com/tensorflow/variational-autoencoders-with-tensorflow-probability-layers-d06c658931b7"
      ]
    },
    {
      "cell_type": "code",
      "metadata": {
        "_uuid": "bd005b66ce9d41d43f6ff07674ebe64e3ba15717",
        "id": "cm5N2qGtRWMS"
      },
      "source": [
        "def create_vae():\n",
        "    def dense_layers(sizes):\n",
        "        layers = Sequential([Dense(size, activation = \"relu\") for size in sizes])\n",
        "        return layers\n",
        "\n",
        "    input_shape =30\n",
        "    intermediary_dims = [25, 20, 15, 10]\n",
        "    latent_dim = 2\n",
        "\n",
        "    # prior = tfd.Independent(tfd.Normal(loc=tf.zeros(latent_dim), scale=1),\n",
        "    #                         reinterpreted_batch_ndims=1)\n",
        "\n",
        "    prior = tfd.MultivariateNormalDiag(\n",
        "            loc=tf.zeros([latent_dim]),\n",
        "            scale_identity_multiplier=1.0)\n",
        "\n",
        "    encoder = Sequential([\n",
        "        InputLayer(input_shape=input_shape, name='encoder_input'),\n",
        "        dense_layers(intermediary_dims),\n",
        "        Dense(tfpl.MultivariateNormalTriL.params_size(latent_dim), activation=None),\n",
        "        tfpl.MultivariateNormalTriL(latent_dim, activity_regularizer=tfpl.KLDivergenceRegularizer(prior)),\n",
        "    ], name='encoder')\n",
        "\n",
        "    # encoder.summary()\n",
        "    # plot_model(encoder, to_file='vae_mlp_encoder.png', show_shapes=True)\n",
        "\n",
        "    decoder = Sequential([\n",
        "        InputLayer(input_shape=[latent_dim]),\n",
        "        dense_layers(reversed(intermediary_dims)),\n",
        "        Dense(tfpl.IndependentNormal.params_size(input_shape), activation=None),\n",
        "        tfpl.IndependentNormal(input_shape),\n",
        "    ], name='decoder')\n",
        "\n",
        "    # decoder.summary()\n",
        "    # plot_model(decoder, to_file='vae_mlp_decoder.png', show_shapes=True)\n",
        "\n",
        "    vae = Model(inputs=encoder.inputs,\n",
        "                    outputs=decoder(encoder.outputs[0]),\n",
        "                    name='vae_mlp')\n",
        "\n",
        "    negloglik = lambda x, rv_x: -rv_x.log_prob(x)\n",
        "\n",
        "    vae.compile(optimizer=tf.keras.optimizers.Nadam(), \n",
        "                loss=negloglik)\n",
        "\n",
        "    # vae.summary()\n",
        "    # plot_model(vae,\n",
        "    #            to_file='vae_mlp.png',\n",
        "    #            show_shapes=True)\n",
        "\n",
        "    return encoder, decoder, vae"
      ],
      "execution_count": 30,
      "outputs": []
    },
    {
      "cell_type": "code",
      "metadata": {
        "id": "6F1O-fKY7_-7"
      },
      "source": [
        "from sklearn.preprocessing import StandardScaler\n",
        "ss = StandardScaler()\n",
        "X_train_cleaned_0sss = ss.fit_transform(X_train_cleaned_0s)\n",
        "X_val_cleaned_0sss = ss.transform(X_val_cleaned_0s)"
      ],
      "execution_count": 31,
      "outputs": []
    },
    {
      "cell_type": "code",
      "metadata": {
        "_uuid": "9a80a22488211ff67043b170218cc2489b158ef4",
        "colab": {
          "base_uri": "https://localhost:8080/"
        },
        "id": "3KdnVJYrRWMU",
        "outputId": "ba222163-b225-4853-fd9e-f14d725733eb"
      },
      "source": [
        "batch_size = 128\n",
        "max_epochs = 1000\n",
        "tf_X_train_cleaned_0s = tf.data.Dataset.from_tensor_slices((X_train_cleaned_0s, X_train_cleaned_0s)).batch(batch_size).prefetch(tf.data.experimental.AUTOTUNE).shuffle(int(10e4))\n",
        "tf_X_val_cleaned_0s = tf.data.Dataset.from_tensor_slices((X_val_cleaned_0s, X_val_cleaned_0s)).batch(batch_size).prefetch(tf.data.experimental.AUTOTUNE).shuffle(int(10e4))\n",
        "\n",
        "train_vae_encoder, train_vae_decoder, train_vae = create_vae()\n",
        "checkpointer = ModelCheckpoint(filepath='vae_train_bestmodel.h5', verbose=0, save_best_only=True)\n",
        "earlystopper = EarlyStopping(monitor='val_loss', mode='min', min_delta=0.005, patience=5, verbose=0, restore_best_weights=True)\n",
        "reduceLR = ReduceLROnPlateau(monitor='val_loss', factor=0.2, patience=2, min_lr=0.0001)\n",
        "\n",
        "hist = train_vae.fit(tf_X_train_cleaned_0s,\n",
        "               epochs=max_epochs,\n",
        "               shuffle=True,\n",
        "               verbose=1,\n",
        "               validation_data= tf_X_val_cleaned_0s,\n",
        "               callbacks=[checkpointer, earlystopper, reduceLR])\n",
        "\n"
      ],
      "execution_count": 32,
      "outputs": [
        {
          "output_type": "stream",
          "name": "stdout",
          "text": [
            "WARNING:tensorflow:Layers in a Sequential model should only have a single input tensor, but we receive a <class 'tensorflow_probability.python.layers.internal.distribution_tensor_coercible._TensorCoercible'> input: tfp.distributions._TensorCoercible(\"multivariate_normal_tri_l_tensor_coercible\", batch_shape=[?], event_shape=[2], dtype=float32)\n",
            "Consider rewriting this model with the Functional API.\n",
            "Epoch 1/1000\n",
            "WARNING:tensorflow:Layers in a Sequential model should only have a single input tensor, but we receive a <class 'tensorflow_probability.python.layers.internal.distribution_tensor_coercible._TensorCoercible'> input: tfp.distributions._TensorCoercible(\"vae_mlp_multivariate_normal_tri_l_tensor_coercible\", batch_shape=[?], event_shape=[2], dtype=float32)\n",
            "Consider rewriting this model with the Functional API.\n",
            "WARNING:tensorflow:Layers in a Sequential model should only have a single input tensor, but we receive a <class 'tensorflow_probability.python.layers.internal.distribution_tensor_coercible._TensorCoercible'> input: tfp.distributions._TensorCoercible(\"vae_mlp_multivariate_normal_tri_l_tensor_coercible\", batch_shape=[?], event_shape=[2], dtype=float32)\n",
            "Consider rewriting this model with the Functional API.\n",
            "584/585 [============================>.] - ETA: 0s - loss: 68.8371WARNING:tensorflow:Layers in a Sequential model should only have a single input tensor, but we receive a <class 'tensorflow_probability.python.layers.internal.distribution_tensor_coercible._TensorCoercible'> input: tfp.distributions._TensorCoercible(\"vae_mlp_multivariate_normal_tri_l_tensor_coercible\", batch_shape=[?], event_shape=[2], dtype=float32)\n",
            "Consider rewriting this model with the Functional API.\n",
            "585/585 [==============================] - 13s 14ms/step - loss: 68.7882 - val_loss: 42.0670 - lr: 0.0010\n",
            "Epoch 2/1000\n",
            "585/585 [==============================] - 8s 13ms/step - loss: 39.0479 - val_loss: 36.3572 - lr: 0.0010\n",
            "Epoch 3/1000\n",
            "585/585 [==============================] - 8s 13ms/step - loss: 36.1229 - val_loss: 35.5802 - lr: 0.0010\n",
            "Epoch 4/1000\n",
            "585/585 [==============================] - 8s 13ms/step - loss: 35.5439 - val_loss: 35.1409 - lr: 0.0010\n",
            "Epoch 5/1000\n",
            "585/585 [==============================] - 7s 12ms/step - loss: 35.2574 - val_loss: 34.9047 - lr: 0.0010\n",
            "Epoch 6/1000\n",
            "585/585 [==============================] - 7s 12ms/step - loss: 35.0848 - val_loss: 34.8055 - lr: 0.0010\n",
            "Epoch 7/1000\n",
            "585/585 [==============================] - 7s 12ms/step - loss: 34.9518 - val_loss: 34.6847 - lr: 0.0010\n",
            "Epoch 8/1000\n",
            "585/585 [==============================] - 7s 12ms/step - loss: 34.8427 - val_loss: 34.5276 - lr: 0.0010\n",
            "Epoch 9/1000\n",
            "585/585 [==============================] - 8s 13ms/step - loss: 34.7477 - val_loss: 34.4797 - lr: 0.0010\n",
            "Epoch 10/1000\n",
            "585/585 [==============================] - 8s 14ms/step - loss: 34.6419 - val_loss: 34.3674 - lr: 0.0010\n",
            "Epoch 11/1000\n",
            "585/585 [==============================] - 7s 13ms/step - loss: 34.5530 - val_loss: 34.2771 - lr: 0.0010\n",
            "Epoch 12/1000\n",
            "585/585 [==============================] - 7s 12ms/step - loss: 34.4170 - val_loss: 34.0814 - lr: 0.0010\n",
            "Epoch 13/1000\n",
            "585/585 [==============================] - 7s 12ms/step - loss: 34.2823 - val_loss: 33.9401 - lr: 0.0010\n",
            "Epoch 14/1000\n",
            "585/585 [==============================] - 8s 13ms/step - loss: 34.2090 - val_loss: 33.8695 - lr: 0.0010\n",
            "Epoch 15/1000\n",
            "585/585 [==============================] - 7s 12ms/step - loss: 34.1209 - val_loss: 33.8111 - lr: 0.0010\n",
            "Epoch 16/1000\n",
            "585/585 [==============================] - 8s 13ms/step - loss: 34.0467 - val_loss: 33.7585 - lr: 0.0010\n",
            "Epoch 17/1000\n",
            "585/585 [==============================] - 8s 13ms/step - loss: 33.9628 - val_loss: 33.6371 - lr: 0.0010\n",
            "Epoch 18/1000\n",
            "585/585 [==============================] - 8s 13ms/step - loss: 33.8803 - val_loss: 33.5646 - lr: 0.0010\n",
            "Epoch 19/1000\n",
            "585/585 [==============================] - 8s 14ms/step - loss: 33.8048 - val_loss: 33.4992 - lr: 0.0010\n",
            "Epoch 20/1000\n",
            "585/585 [==============================] - 8s 13ms/step - loss: 33.7319 - val_loss: 33.4239 - lr: 0.0010\n",
            "Epoch 21/1000\n",
            "585/585 [==============================] - 8s 13ms/step - loss: 33.6562 - val_loss: 33.3735 - lr: 0.0010\n",
            "Epoch 22/1000\n",
            "585/585 [==============================] - 7s 12ms/step - loss: 33.6072 - val_loss: 33.2946 - lr: 0.0010\n",
            "Epoch 23/1000\n",
            "585/585 [==============================] - 7s 12ms/step - loss: 33.5926 - val_loss: 33.3085 - lr: 0.0010\n",
            "Epoch 24/1000\n",
            "585/585 [==============================] - 8s 13ms/step - loss: 33.5076 - val_loss: 33.2470 - lr: 0.0010\n",
            "Epoch 25/1000\n",
            "585/585 [==============================] - 8s 13ms/step - loss: 33.4573 - val_loss: 33.1475 - lr: 0.0010\n",
            "Epoch 26/1000\n",
            "585/585 [==============================] - 7s 12ms/step - loss: 33.4056 - val_loss: 33.1780 - lr: 0.0010\n",
            "Epoch 27/1000\n",
            "585/585 [==============================] - 7s 12ms/step - loss: 33.3702 - val_loss: 33.0932 - lr: 0.0010\n",
            "Epoch 28/1000\n",
            "585/585 [==============================] - 7s 12ms/step - loss: 33.3033 - val_loss: 32.9969 - lr: 0.0010\n",
            "Epoch 29/1000\n",
            "585/585 [==============================] - 8s 13ms/step - loss: 33.4052 - val_loss: 32.9596 - lr: 0.0010\n",
            "Epoch 30/1000\n",
            "585/585 [==============================] - 8s 13ms/step - loss: 33.1988 - val_loss: 32.8217 - lr: 0.0010\n",
            "Epoch 31/1000\n",
            "585/585 [==============================] - 8s 13ms/step - loss: 33.1016 - val_loss: 32.7679 - lr: 0.0010\n",
            "Epoch 32/1000\n",
            "585/585 [==============================] - 8s 13ms/step - loss: 33.0961 - val_loss: 32.7606 - lr: 0.0010\n",
            "Epoch 33/1000\n",
            "585/585 [==============================] - 8s 13ms/step - loss: 33.0457 - val_loss: 32.6886 - lr: 0.0010\n",
            "Epoch 34/1000\n",
            "585/585 [==============================] - 8s 13ms/step - loss: 33.0183 - val_loss: 32.6605 - lr: 0.0010\n",
            "Epoch 35/1000\n",
            "585/585 [==============================] - 8s 13ms/step - loss: 32.9823 - val_loss: 32.7584 - lr: 0.0010\n",
            "Epoch 36/1000\n",
            "585/585 [==============================] - 7s 12ms/step - loss: 32.9550 - val_loss: 32.7143 - lr: 0.0010\n",
            "Epoch 37/1000\n",
            "585/585 [==============================] - 7s 13ms/step - loss: 32.8339 - val_loss: 32.5037 - lr: 2.0000e-04\n",
            "Epoch 38/1000\n",
            "585/585 [==============================] - 8s 13ms/step - loss: 32.7845 - val_loss: 32.5107 - lr: 2.0000e-04\n",
            "Epoch 39/1000\n",
            "585/585 [==============================] - 8s 14ms/step - loss: 32.7715 - val_loss: 32.4642 - lr: 2.0000e-04\n",
            "Epoch 40/1000\n",
            "585/585 [==============================] - 8s 14ms/step - loss: 32.7722 - val_loss: 32.4574 - lr: 2.0000e-04\n",
            "Epoch 41/1000\n",
            "585/585 [==============================] - 8s 14ms/step - loss: 32.7752 - val_loss: 32.4466 - lr: 2.0000e-04\n",
            "Epoch 42/1000\n",
            "585/585 [==============================] - 7s 12ms/step - loss: 32.7458 - val_loss: 32.3968 - lr: 2.0000e-04\n",
            "Epoch 43/1000\n",
            "585/585 [==============================] - 7s 12ms/step - loss: 32.7391 - val_loss: 32.4456 - lr: 2.0000e-04\n",
            "Epoch 44/1000\n",
            "585/585 [==============================] - 7s 12ms/step - loss: 32.7320 - val_loss: 32.4062 - lr: 2.0000e-04\n",
            "Epoch 45/1000\n",
            "585/585 [==============================] - 8s 13ms/step - loss: 32.7081 - val_loss: 32.3857 - lr: 1.0000e-04\n",
            "Epoch 46/1000\n",
            "585/585 [==============================] - 8s 13ms/step - loss: 32.6989 - val_loss: 32.3899 - lr: 1.0000e-04\n",
            "Epoch 47/1000\n",
            "585/585 [==============================] - 7s 12ms/step - loss: 32.6913 - val_loss: 32.3817 - lr: 1.0000e-04\n",
            "Epoch 48/1000\n",
            "585/585 [==============================] - 8s 13ms/step - loss: 32.6840 - val_loss: 32.3497 - lr: 1.0000e-04\n",
            "Epoch 49/1000\n",
            "585/585 [==============================] - 7s 12ms/step - loss: 32.6763 - val_loss: 32.3864 - lr: 1.0000e-04\n",
            "Epoch 50/1000\n",
            "585/585 [==============================] - 8s 13ms/step - loss: 32.6884 - val_loss: 32.3884 - lr: 1.0000e-04\n",
            "Epoch 51/1000\n",
            "585/585 [==============================] - 7s 12ms/step - loss: 32.6906 - val_loss: 32.3684 - lr: 1.0000e-04\n",
            "Epoch 52/1000\n",
            "585/585 [==============================] - 7s 12ms/step - loss: 32.6738 - val_loss: 32.3927 - lr: 1.0000e-04\n",
            "Epoch 53/1000\n",
            "585/585 [==============================] - 8s 13ms/step - loss: 32.6793 - val_loss: 32.3710 - lr: 1.0000e-04\n"
          ]
        }
      ]
    },
    {
      "cell_type": "code",
      "metadata": {
        "colab": {
          "base_uri": "https://localhost:8080/"
        },
        "id": "1d_XqqUiyUis",
        "outputId": "4cd3f8e7-d96c-4e23-bea1-e12d35e2f0e1"
      },
      "source": [
        "train_val_vae_encoder, train_val_vae_decoder, train_val_vae = create_vae()\n",
        "tf_X_train_val_cleaned_0s = tf.data.Dataset.from_tensor_slices((X_train_val_cleaned_0s, X_train_val_cleaned_0s)).batch(batch_size).prefetch(tf.data.experimental.AUTOTUNE).shuffle(int(10e4))\n",
        "\n",
        "checkpointer = ModelCheckpoint(filepath='vae_train_val_bestmodel.h5', verbose=0, save_best_only=True,monitor='loss')\n",
        "earlystopper = EarlyStopping(monitor='loss', mode='min', min_delta=0.005, patience=5, verbose=0, restore_best_weights=True)\n",
        "reduceLR = ReduceLROnPlateau(monitor='loss', factor=0.2, patience=2, min_lr=0.0001)\n",
        "\n",
        "hist = train_val_vae.fit(tf_X_train_cleaned_0s,\n",
        "               epochs=max_epochs,\n",
        "               shuffle=True,\n",
        "               verbose=1,\n",
        "               callbacks=[checkpointer, earlystopper, reduceLR])\n",
        "\n"
      ],
      "execution_count": 33,
      "outputs": [
        {
          "output_type": "stream",
          "name": "stdout",
          "text": [
            "WARNING:tensorflow:Layers in a Sequential model should only have a single input tensor, but we receive a <class 'tensorflow_probability.python.layers.internal.distribution_tensor_coercible._TensorCoercible'> input: tfp.distributions._TensorCoercible(\"multivariate_normal_tri_l_1_tensor_coercible\", batch_shape=[?], event_shape=[2], dtype=float32)\n",
            "Consider rewriting this model with the Functional API.\n",
            "Epoch 1/1000\n",
            "WARNING:tensorflow:Layers in a Sequential model should only have a single input tensor, but we receive a <class 'tensorflow_probability.python.layers.internal.distribution_tensor_coercible._TensorCoercible'> input: tfp.distributions._TensorCoercible(\"vae_mlp_multivariate_normal_tri_l_1_tensor_coercible\", batch_shape=[?], event_shape=[2], dtype=float32)\n",
            "Consider rewriting this model with the Functional API.\n",
            "WARNING:tensorflow:Layers in a Sequential model should only have a single input tensor, but we receive a <class 'tensorflow_probability.python.layers.internal.distribution_tensor_coercible._TensorCoercible'> input: tfp.distributions._TensorCoercible(\"vae_mlp_multivariate_normal_tri_l_1_tensor_coercible\", batch_shape=[?], event_shape=[2], dtype=float32)\n",
            "Consider rewriting this model with the Functional API.\n",
            "585/585 [==============================] - 11s 12ms/step - loss: 63.5175 - lr: 0.0010\n",
            "Epoch 2/1000\n",
            "585/585 [==============================] - 7s 12ms/step - loss: 36.6869 - lr: 0.0010\n",
            "Epoch 3/1000\n",
            "585/585 [==============================] - 7s 13ms/step - loss: 35.9585 - lr: 0.0010\n",
            "Epoch 4/1000\n",
            "585/585 [==============================] - 7s 12ms/step - loss: 35.6778 - lr: 0.0010\n",
            "Epoch 5/1000\n",
            "585/585 [==============================] - 7s 12ms/step - loss: 35.3391 - lr: 0.0010\n",
            "Epoch 6/1000\n",
            "585/585 [==============================] - 7s 11ms/step - loss: 34.9886 - lr: 0.0010\n",
            "Epoch 7/1000\n",
            "585/585 [==============================] - 7s 11ms/step - loss: 34.8322 - lr: 0.0010\n",
            "Epoch 8/1000\n",
            "585/585 [==============================] - 7s 11ms/step - loss: 34.7479 - lr: 0.0010\n",
            "Epoch 9/1000\n",
            "585/585 [==============================] - 7s 12ms/step - loss: 34.6798 - lr: 0.0010\n",
            "Epoch 10/1000\n",
            "585/585 [==============================] - 7s 11ms/step - loss: 34.6287 - lr: 0.0010\n",
            "Epoch 11/1000\n",
            "585/585 [==============================] - 8s 13ms/step - loss: 34.5099 - lr: 0.0010\n",
            "Epoch 12/1000\n",
            "585/585 [==============================] - 8s 13ms/step - loss: 34.3935 - lr: 0.0010\n",
            "Epoch 13/1000\n",
            "585/585 [==============================] - 7s 11ms/step - loss: 34.3117 - lr: 0.0010\n",
            "Epoch 14/1000\n",
            "585/585 [==============================] - 7s 12ms/step - loss: 34.2534 - lr: 0.0010\n",
            "Epoch 15/1000\n",
            "585/585 [==============================] - 7s 11ms/step - loss: 34.1937 - lr: 0.0010\n",
            "Epoch 16/1000\n",
            "585/585 [==============================] - 8s 13ms/step - loss: 34.1340 - lr: 0.0010\n",
            "Epoch 17/1000\n",
            "585/585 [==============================] - 7s 12ms/step - loss: 34.0763 - lr: 0.0010\n",
            "Epoch 18/1000\n",
            "585/585 [==============================] - 7s 12ms/step - loss: 34.0060 - lr: 0.0010\n",
            "Epoch 19/1000\n",
            "585/585 [==============================] - 7s 12ms/step - loss: 33.9547 - lr: 0.0010\n",
            "Epoch 20/1000\n",
            "585/585 [==============================] - 7s 12ms/step - loss: 33.8484 - lr: 0.0010\n",
            "Epoch 21/1000\n",
            "585/585 [==============================] - 7s 12ms/step - loss: 33.6846 - lr: 0.0010\n",
            "Epoch 22/1000\n",
            "585/585 [==============================] - 7s 11ms/step - loss: 33.5769 - lr: 0.0010\n",
            "Epoch 23/1000\n",
            "585/585 [==============================] - 7s 12ms/step - loss: 33.4896 - lr: 0.0010\n",
            "Epoch 24/1000\n",
            "585/585 [==============================] - 7s 12ms/step - loss: 33.4391 - lr: 0.0010\n",
            "Epoch 25/1000\n",
            "585/585 [==============================] - 7s 11ms/step - loss: 33.3857 - lr: 0.0010\n",
            "Epoch 26/1000\n",
            "585/585 [==============================] - 7s 12ms/step - loss: 33.3318 - lr: 0.0010\n",
            "Epoch 27/1000\n",
            "585/585 [==============================] - 7s 12ms/step - loss: 33.2471 - lr: 0.0010\n",
            "Epoch 28/1000\n",
            "585/585 [==============================] - 7s 12ms/step - loss: 33.2020 - lr: 0.0010\n",
            "Epoch 29/1000\n",
            "585/585 [==============================] - 7s 11ms/step - loss: 33.1603 - lr: 0.0010\n",
            "Epoch 30/1000\n",
            "585/585 [==============================] - 7s 12ms/step - loss: 33.1492 - lr: 0.0010\n",
            "Epoch 31/1000\n",
            "585/585 [==============================] - 7s 13ms/step - loss: 33.0637 - lr: 0.0010\n",
            "Epoch 32/1000\n",
            "585/585 [==============================] - 7s 12ms/step - loss: 33.1595 - lr: 0.0010\n",
            "Epoch 33/1000\n",
            "585/585 [==============================] - 7s 12ms/step - loss: 33.1259 - lr: 0.0010\n",
            "Epoch 34/1000\n",
            "585/585 [==============================] - 7s 12ms/step - loss: 32.9515 - lr: 2.0000e-04\n",
            "Epoch 35/1000\n",
            "585/585 [==============================] - 7s 12ms/step - loss: 32.9209 - lr: 2.0000e-04\n",
            "Epoch 36/1000\n",
            "585/585 [==============================] - 7s 12ms/step - loss: 32.8965 - lr: 2.0000e-04\n",
            "Epoch 37/1000\n",
            "585/585 [==============================] - 8s 13ms/step - loss: 32.8812 - lr: 2.0000e-04\n",
            "Epoch 38/1000\n",
            "585/585 [==============================] - 7s 12ms/step - loss: 32.8853 - lr: 2.0000e-04\n",
            "Epoch 39/1000\n",
            "585/585 [==============================] - 7s 12ms/step - loss: 32.8612 - lr: 2.0000e-04\n",
            "Epoch 40/1000\n",
            "585/585 [==============================] - 7s 12ms/step - loss: 32.8787 - lr: 2.0000e-04\n",
            "Epoch 41/1000\n",
            "585/585 [==============================] - 7s 12ms/step - loss: 32.8475 - lr: 2.0000e-04\n",
            "Epoch 42/1000\n",
            "585/585 [==============================] - 7s 12ms/step - loss: 32.8907 - lr: 2.0000e-04\n",
            "Epoch 43/1000\n",
            "585/585 [==============================] - 7s 12ms/step - loss: 32.8323 - lr: 2.0000e-04\n",
            "Epoch 44/1000\n",
            "585/585 [==============================] - 7s 12ms/step - loss: 32.8256 - lr: 2.0000e-04\n",
            "Epoch 45/1000\n",
            "585/585 [==============================] - 7s 12ms/step - loss: 32.8077 - lr: 2.0000e-04\n",
            "Epoch 46/1000\n",
            "585/585 [==============================] - 7s 12ms/step - loss: 32.7901 - lr: 2.0000e-04\n",
            "Epoch 47/1000\n",
            "585/585 [==============================] - 7s 12ms/step - loss: 32.8037 - lr: 2.0000e-04\n",
            "Epoch 48/1000\n",
            "585/585 [==============================] - 7s 11ms/step - loss: 32.7911 - lr: 2.0000e-04\n",
            "Epoch 49/1000\n",
            "585/585 [==============================] - 7s 12ms/step - loss: 32.7541 - lr: 1.0000e-04\n",
            "Epoch 50/1000\n",
            "585/585 [==============================] - 7s 12ms/step - loss: 32.7534 - lr: 1.0000e-04\n",
            "Epoch 51/1000\n",
            "585/585 [==============================] - 7s 12ms/step - loss: 32.7451 - lr: 1.0000e-04\n",
            "Epoch 52/1000\n",
            "585/585 [==============================] - 7s 12ms/step - loss: 32.7220 - lr: 1.0000e-04\n",
            "Epoch 53/1000\n",
            "585/585 [==============================] - 7s 12ms/step - loss: 32.7316 - lr: 1.0000e-04\n",
            "Epoch 54/1000\n",
            "585/585 [==============================] - 8s 13ms/step - loss: 32.7180 - lr: 1.0000e-04\n",
            "Epoch 55/1000\n",
            "585/585 [==============================] - 7s 13ms/step - loss: 32.7169 - lr: 1.0000e-04\n",
            "Epoch 56/1000\n",
            "585/585 [==============================] - 7s 12ms/step - loss: 32.7113 - lr: 1.0000e-04\n",
            "Epoch 57/1000\n",
            "585/585 [==============================] - 7s 12ms/step - loss: 32.7067 - lr: 1.0000e-04\n",
            "Epoch 58/1000\n",
            "585/585 [==============================] - 7s 11ms/step - loss: 32.6991 - lr: 1.0000e-04\n",
            "Epoch 59/1000\n",
            "585/585 [==============================] - 7s 12ms/step - loss: 32.6985 - lr: 1.0000e-04\n",
            "Epoch 60/1000\n",
            "585/585 [==============================] - 7s 12ms/step - loss: 32.7123 - lr: 1.0000e-04\n",
            "Epoch 61/1000\n",
            "585/585 [==============================] - 7s 12ms/step - loss: 32.6737 - lr: 1.0000e-04\n",
            "Epoch 62/1000\n",
            "585/585 [==============================] - 7s 12ms/step - loss: 32.6738 - lr: 1.0000e-04\n",
            "Epoch 63/1000\n",
            "585/585 [==============================] - 7s 12ms/step - loss: 32.6813 - lr: 1.0000e-04\n",
            "Epoch 64/1000\n",
            "585/585 [==============================] - 7s 12ms/step - loss: 32.6707 - lr: 1.0000e-04\n",
            "Epoch 65/1000\n",
            "585/585 [==============================] - 7s 12ms/step - loss: 32.7177 - lr: 1.0000e-04\n",
            "Epoch 66/1000\n",
            "585/585 [==============================] - 7s 12ms/step - loss: 32.7029 - lr: 1.0000e-04\n"
          ]
        }
      ]
    },
    {
      "cell_type": "code",
      "metadata": {
        "id": "oevzng6kXvds"
      },
      "source": [
        "def reconstruction_log_prob(eval_sample, enc, dec, reconstruct_samples_n =100):\n",
        "    encoder_samples = enc(eval_sample)\n",
        "    return dec(encoder_samples).log_prob(eval_sample)"
      ],
      "execution_count": 34,
      "outputs": []
    },
    {
      "cell_type": "code",
      "metadata": {
        "id": "rVZ0pMLfnZ93",
        "colab": {
          "base_uri": "https://localhost:8080/"
        },
        "outputId": "c3ed623a-57de-4ce4-c896-af1fb9e484a9"
      },
      "source": [
        "X_train_VAE_scores = reconstruction_log_prob(X_train_cleaned.values, train_vae_encoder, train_vae_decoder)\n",
        "X_val_VAE_scores = reconstruction_log_prob(X_val_cleaned.values, train_vae_encoder, train_vae_decoder)\n",
        "X_train_val_VAE_scores = reconstruction_log_prob(X_train_val_cleaned.values, train_val_vae_encoder, train_val_vae_decoder)\n",
        "X_test_VAE_scores = reconstruction_log_prob(X_test_cleaned.values, train_val_vae_encoder, train_val_vae_decoder)"
      ],
      "execution_count": 35,
      "outputs": [
        {
          "output_type": "stream",
          "name": "stdout",
          "text": [
            "WARNING:tensorflow:Layers in a Sequential model should only have a single input tensor, but we receive a <class 'tensorflow_probability.python.layers.internal.distribution_tensor_coercible._TensorCoercible'> input: tfp.distributions._TensorCoercible(\"encoder_multivariate_normal_tri_l_tensor_coercible\", batch_shape=[75000], event_shape=[2], dtype=float32)\n",
            "Consider rewriting this model with the Functional API.\n",
            "WARNING:tensorflow:Layers in a Sequential model should only have a single input tensor, but we receive a <class 'tensorflow_probability.python.layers.internal.distribution_tensor_coercible._TensorCoercible'> input: tfp.distributions._TensorCoercible(\"encoder_multivariate_normal_tri_l_tensor_coercible\", batch_shape=[12500], event_shape=[2], dtype=float32)\n",
            "Consider rewriting this model with the Functional API.\n",
            "WARNING:tensorflow:Layers in a Sequential model should only have a single input tensor, but we receive a <class 'tensorflow_probability.python.layers.internal.distribution_tensor_coercible._TensorCoercible'> input: tfp.distributions._TensorCoercible(\"encoder_multivariate_normal_tri_l_1_tensor_coercible\", batch_shape=[87500], event_shape=[2], dtype=float32)\n",
            "Consider rewriting this model with the Functional API.\n",
            "WARNING:tensorflow:Layers in a Sequential model should only have a single input tensor, but we receive a <class 'tensorflow_probability.python.layers.internal.distribution_tensor_coercible._TensorCoercible'> input: tfp.distributions._TensorCoercible(\"encoder_multivariate_normal_tri_l_1_tensor_coercible\", batch_shape=[12500], event_shape=[2], dtype=float32)\n",
            "Consider rewriting this model with the Functional API.\n"
          ]
        }
      ]
    },
    {
      "cell_type": "code",
      "metadata": {
        "colab": {
          "base_uri": "https://localhost:8080/"
        },
        "id": "wys5q7ngzcdg",
        "outputId": "3511b9f8-eb1c-4b00-e84f-d6f4413f085f"
      },
      "source": [
        "all_results.add_results(-X_train_VAE_scores.numpy(), -X_val_VAE_scores.numpy(), \n",
        "                        -X_train_val_VAE_scores.numpy(), -X_test_VAE_scores.numpy(), \"VAE\" )"
      ],
      "execution_count": 75,
      "outputs": [
        {
          "output_type": "stream",
          "name": "stderr",
          "text": [
            "/usr/local/lib/python3.7/dist-packages/ipykernel_launcher.py:25: DeprecationWarning: The default dtype for empty Series will be 'object' instead of 'float64' in a future version. Specify a dtype explicitly to silence this warning.\n",
            "/usr/local/lib/python3.7/dist-packages/ipykernel_launcher.py:25: DeprecationWarning: The default dtype for empty Series will be 'object' instead of 'float64' in a future version. Specify a dtype explicitly to silence this warning.\n",
            "/usr/local/lib/python3.7/dist-packages/ipykernel_launcher.py:25: DeprecationWarning: The default dtype for empty Series will be 'object' instead of 'float64' in a future version. Specify a dtype explicitly to silence this warning.\n"
          ]
        }
      ]
    },
    {
      "cell_type": "code",
      "metadata": {
        "id": "eYdaztaH_b0p",
        "colab": {
          "base_uri": "https://localhost:8080/",
          "height": 142
        },
        "outputId": "6278e353-ad0f-4f44-fdbb-7db91edfd4e4"
      },
      "source": [
        "all_results.train_res"
      ],
      "execution_count": 76,
      "outputs": [
        {
          "output_type": "execute_result",
          "data": {
            "text/html": [
              "<div>\n",
              "<style scoped>\n",
              "    .dataframe tbody tr th:only-of-type {\n",
              "        vertical-align: middle;\n",
              "    }\n",
              "\n",
              "    .dataframe tbody tr th {\n",
              "        vertical-align: top;\n",
              "    }\n",
              "\n",
              "    .dataframe thead th {\n",
              "        text-align: right;\n",
              "    }\n",
              "</style>\n",
              "<table border=\"1\" class=\"dataframe\">\n",
              "  <thead>\n",
              "    <tr style=\"text-align: right;\">\n",
              "      <th></th>\n",
              "      <th>AUC</th>\n",
              "      <th>AUC PRC</th>\n",
              "      <th>F1</th>\n",
              "    </tr>\n",
              "  </thead>\n",
              "  <tbody>\n",
              "    <tr>\n",
              "      <th>PCA</th>\n",
              "      <td>0.947501</td>\n",
              "      <td>0.189318</td>\n",
              "      <td>0.352941</td>\n",
              "    </tr>\n",
              "    <tr>\n",
              "      <th>AE</th>\n",
              "      <td>0.956983</td>\n",
              "      <td>0.380441</td>\n",
              "      <td>0.404181</td>\n",
              "    </tr>\n",
              "    <tr>\n",
              "      <th>VAE</th>\n",
              "      <td>0.956978</td>\n",
              "      <td>0.402697</td>\n",
              "      <td>0.528926</td>\n",
              "    </tr>\n",
              "  </tbody>\n",
              "</table>\n",
              "</div>"
            ],
            "text/plain": [
              "          AUC   AUC PRC        F1\n",
              "PCA  0.947501  0.189318  0.352941\n",
              "AE   0.956983  0.380441  0.404181\n",
              "VAE  0.956978  0.402697  0.528926"
            ]
          },
          "metadata": {},
          "execution_count": 76
        }
      ]
    },
    {
      "cell_type": "code",
      "metadata": {
        "id": "qPuzAIazAMbB",
        "colab": {
          "base_uri": "https://localhost:8080/",
          "height": 142
        },
        "outputId": "51e81a07-27ae-44a2-9a16-75e81ea1ae61"
      },
      "source": [
        "all_results.val_res"
      ],
      "execution_count": 77,
      "outputs": [
        {
          "output_type": "execute_result",
          "data": {
            "text/html": [
              "<div>\n",
              "<style scoped>\n",
              "    .dataframe tbody tr th:only-of-type {\n",
              "        vertical-align: middle;\n",
              "    }\n",
              "\n",
              "    .dataframe tbody tr th {\n",
              "        vertical-align: top;\n",
              "    }\n",
              "\n",
              "    .dataframe thead th {\n",
              "        text-align: right;\n",
              "    }\n",
              "</style>\n",
              "<table border=\"1\" class=\"dataframe\">\n",
              "  <thead>\n",
              "    <tr style=\"text-align: right;\">\n",
              "      <th></th>\n",
              "      <th>AUC</th>\n",
              "      <th>AUC PRC</th>\n",
              "      <th>F1</th>\n",
              "    </tr>\n",
              "  </thead>\n",
              "  <tbody>\n",
              "    <tr>\n",
              "      <th>PCA</th>\n",
              "      <td>0.955023</td>\n",
              "      <td>0.206501</td>\n",
              "      <td>0.450000</td>\n",
              "    </tr>\n",
              "    <tr>\n",
              "      <th>AE</th>\n",
              "      <td>0.968501</td>\n",
              "      <td>0.360957</td>\n",
              "      <td>0.514286</td>\n",
              "    </tr>\n",
              "    <tr>\n",
              "      <th>VAE</th>\n",
              "      <td>0.969590</td>\n",
              "      <td>0.384541</td>\n",
              "      <td>0.521739</td>\n",
              "    </tr>\n",
              "  </tbody>\n",
              "</table>\n",
              "</div>"
            ],
            "text/plain": [
              "          AUC   AUC PRC        F1\n",
              "PCA  0.955023  0.206501  0.450000\n",
              "AE   0.968501  0.360957  0.514286\n",
              "VAE  0.969590  0.384541  0.521739"
            ]
          },
          "metadata": {},
          "execution_count": 77
        }
      ]
    },
    {
      "cell_type": "code",
      "metadata": {
        "id": "fkPkhN_7AOtM",
        "colab": {
          "base_uri": "https://localhost:8080/",
          "height": 142
        },
        "outputId": "9afe45a0-e5a5-4f64-b73b-13250a9656a5"
      },
      "source": [
        "all_results.test_res"
      ],
      "execution_count": 78,
      "outputs": [
        {
          "output_type": "execute_result",
          "data": {
            "text/html": [
              "<div>\n",
              "<style scoped>\n",
              "    .dataframe tbody tr th:only-of-type {\n",
              "        vertical-align: middle;\n",
              "    }\n",
              "\n",
              "    .dataframe tbody tr th {\n",
              "        vertical-align: top;\n",
              "    }\n",
              "\n",
              "    .dataframe thead th {\n",
              "        text-align: right;\n",
              "    }\n",
              "</style>\n",
              "<table border=\"1\" class=\"dataframe\">\n",
              "  <thead>\n",
              "    <tr style=\"text-align: right;\">\n",
              "      <th></th>\n",
              "      <th>AUC</th>\n",
              "      <th>AUC PRC</th>\n",
              "      <th>F1</th>\n",
              "    </tr>\n",
              "  </thead>\n",
              "  <tbody>\n",
              "    <tr>\n",
              "      <th>PCA</th>\n",
              "      <td>0.973450</td>\n",
              "      <td>0.171445</td>\n",
              "      <td>0.160000</td>\n",
              "    </tr>\n",
              "    <tr>\n",
              "      <th>AE</th>\n",
              "      <td>0.977295</td>\n",
              "      <td>0.426893</td>\n",
              "      <td>0.380952</td>\n",
              "    </tr>\n",
              "    <tr>\n",
              "      <th>VAE</th>\n",
              "      <td>0.995166</td>\n",
              "      <td>0.366945</td>\n",
              "      <td>0.540541</td>\n",
              "    </tr>\n",
              "  </tbody>\n",
              "</table>\n",
              "</div>"
            ],
            "text/plain": [
              "          AUC   AUC PRC        F1\n",
              "PCA  0.973450  0.171445  0.160000\n",
              "AE   0.977295  0.426893  0.380952\n",
              "VAE  0.995166  0.366945  0.540541"
            ]
          },
          "metadata": {},
          "execution_count": 78
        }
      ]
    },
    {
      "cell_type": "code",
      "metadata": {
        "id": "1qUS_cUBXF3a",
        "colab": {
          "base_uri": "https://localhost:8080/",
          "height": 142
        },
        "outputId": "73a3a7d6-73ad-4176-927e-1f057c6e7667"
      },
      "source": [
        "np.round(all_results.val_res,2)"
      ],
      "execution_count": 79,
      "outputs": [
        {
          "output_type": "execute_result",
          "data": {
            "text/html": [
              "<div>\n",
              "<style scoped>\n",
              "    .dataframe tbody tr th:only-of-type {\n",
              "        vertical-align: middle;\n",
              "    }\n",
              "\n",
              "    .dataframe tbody tr th {\n",
              "        vertical-align: top;\n",
              "    }\n",
              "\n",
              "    .dataframe thead th {\n",
              "        text-align: right;\n",
              "    }\n",
              "</style>\n",
              "<table border=\"1\" class=\"dataframe\">\n",
              "  <thead>\n",
              "    <tr style=\"text-align: right;\">\n",
              "      <th></th>\n",
              "      <th>AUC</th>\n",
              "      <th>AUC PRC</th>\n",
              "      <th>F1</th>\n",
              "    </tr>\n",
              "  </thead>\n",
              "  <tbody>\n",
              "    <tr>\n",
              "      <th>PCA</th>\n",
              "      <td>0.96</td>\n",
              "      <td>0.21</td>\n",
              "      <td>0.45</td>\n",
              "    </tr>\n",
              "    <tr>\n",
              "      <th>AE</th>\n",
              "      <td>0.97</td>\n",
              "      <td>0.36</td>\n",
              "      <td>0.51</td>\n",
              "    </tr>\n",
              "    <tr>\n",
              "      <th>VAE</th>\n",
              "      <td>0.97</td>\n",
              "      <td>0.38</td>\n",
              "      <td>0.52</td>\n",
              "    </tr>\n",
              "  </tbody>\n",
              "</table>\n",
              "</div>"
            ],
            "text/plain": [
              "      AUC  AUC PRC    F1\n",
              "PCA  0.96     0.21  0.45\n",
              "AE   0.97     0.36  0.51\n",
              "VAE  0.97     0.38  0.52"
            ]
          },
          "metadata": {},
          "execution_count": 79
        }
      ]
    },
    {
      "cell_type": "code",
      "metadata": {
        "colab": {
          "base_uri": "https://localhost:8080/",
          "height": 296
        },
        "id": "A7omxQYko1Ea",
        "outputId": "5febab05-0e60-43fa-aa89-ba538e5e4b14"
      },
      "source": [
        "ax = plt.hist([X_train_VAE_scores.numpy()[y_train==0][:sum(y_train == 1)], X_train_VAE_scores.numpy()[y_train==1]], 60)\n",
        "plt.title('reconstruction log probability')\n",
        "plt.ylabel('frequency')\n",
        "plt.xlabel(\"log p(x|x')\")\n",
        "plt.show()"
      ],
      "execution_count": 42,
      "outputs": [
        {
          "output_type": "display_data",
          "data": {
            "image/png": "[encoded data removed]",
            "text/plain": [
              "<Figure size 432x288 with 1 Axes>"
            ]
          },
          "metadata": {
            "needs_background": "light"
          }
        }
      ]
    },
    {
      "cell_type": "code",
      "metadata": {
        "colab": {
          "base_uri": "https://localhost:8080/",
          "height": 296
        },
        "id": "Dv38DLghTPhl",
        "outputId": "22f240d8-3456-428b-a72d-bd32e5fa5020"
      },
      "source": [
        "X_train_VAE_scores_probs = np.exp(X_train_VAE_scores.numpy())\n",
        "ax = plt.hist([X_train_VAE_scores_probs[y_train==0][:sum(y_train == 1)], X_train_VAE_scores_probs[y_train==1]], 60)\n",
        "plt.title('reconstruction probability')\n",
        "plt.ylabel('frequency')\n",
        "plt.xlabel(\"p(x|x')\")\n",
        "plt.show()"
      ],
      "execution_count": 48,
      "outputs": [
        {
          "output_type": "display_data",
          "data": {
            "image/png": "[encoded data removed]",
            "text/plain": [
              "<Figure size 432x288 with 1 Axes>"
            ]
          },
          "metadata": {
            "needs_background": "light"
          }
        }
      ]
    },
    {
      "cell_type": "markdown",
      "metadata": {
        "id": "WMSloN_mqVLS"
      },
      "source": [
        "# Comparison with ADASYN"
      ]
    },
    {
      "cell_type": "markdown",
      "metadata": {
        "id": "9I0LdhZKrOt1"
      },
      "source": [
        "## PCA for Visualisation"
      ]
    },
    {
      "cell_type": "code",
      "metadata": {
        "id": "WLZC7nAbFEH4"
      },
      "source": [
        "from imblearn.over_sampling import ADASYN\n",
        "from collections import Counter"
      ],
      "execution_count": 80,
      "outputs": []
    },
    {
      "cell_type": "code",
      "metadata": {
        "id": "kszEhPGlqZEv",
        "colab": {
          "base_uri": "https://localhost:8080/",
          "height": 279
        },
        "outputId": "ef955747-5201-40d3-ee66-ef41adc2b7c7"
      },
      "source": [
        "pca = PCA(n_components=2)\n",
        "X_train_vis = pca.fit_transform(X_train_cleaned, y_train)\n",
        "kwarg_params = {'linewidth': 1, 'edgecolor': 'black'}\n",
        "colors = ['#ef8a62' if v == 0 else '#67a9cf' if v == 1 else 'black' for v in y_train]\n",
        "plt.scatter(X_train_vis[:, 0], X_train_vis[:, 1], c=colors, **kwarg_params)\n",
        "plt.xlabel(\"PCA Variable 1\")\n",
        "plt.ylabel(\"PCA Variable 2\")\n",
        "sns.despine()"
      ],
      "execution_count": 81,
      "outputs": [
        {
          "output_type": "display_data",
          "data": {
            "image/png": "[encoded data removed]",
            "text/plain": [
              "<Figure size 432x288 with 1 Axes>"
            ]
          },
          "metadata": {
            "needs_background": "light"
          }
        }
      ]
    },
    {
      "cell_type": "markdown",
      "metadata": {
        "id": "5W9sdN_BrWr1"
      },
      "source": [
        "## ADASYN Up-sampling"
      ]
    },
    {
      "cell_type": "code",
      "metadata": {
        "id": "ZTZwsft3q8Dg",
        "colab": {
          "base_uri": "https://localhost:8080/",
          "height": 333
        },
        "outputId": "d005854b-0896-4ff7-c010-24c87ef1099e"
      },
      "source": [
        "X_train_resampled, y_train_resampled = ADASYN(ratio={0:74875, 1:10000}, n_neighbors=4).fit_sample(X_train_cleaned, y_train)\n",
        "# X_train_val_resampled, y_train_val_resampled = ADASYN(ratio={0:87353, 1:6000}, n_neighbors=3).fit_sample(X_train_val_cleaned, y_train_val)\n",
        "X_train_resampled_vis = pca.transform(X_train_resampled)\n",
        "colors = ['#ef8a62' if v == 0 else '#67a9cf' if v == 1 else 'black' for v in y_train_resampled]\n",
        "plt.scatter(X_train_resampled_vis[:, 0], X_train_resampled_vis[:, 1], c=colors, **kwarg_params)\n",
        "plt.xlabel(\"PCA Variable 1\")\n",
        "plt.ylabel(\"PCA Variable 2\")\n",
        "sns.despine()"
      ],
      "execution_count": 82,
      "outputs": [
        {
          "output_type": "stream",
          "name": "stderr",
          "text": [
            "/usr/local/lib/python3.7/dist-packages/sklearn/utils/deprecation.py:87: FutureWarning: Function safe_indexing is deprecated; safe_indexing is deprecated in version 0.22 and will be removed in version 0.24.\n",
            "  warnings.warn(msg, category=FutureWarning)\n"
          ]
        },
        {
          "output_type": "display_data",
          "data": {
            "image/png": "[encoded data removed]",
            "text/plain": [
              "<Figure size 432x288 with 1 Axes>"
            ]
          },
          "metadata": {
            "needs_background": "light"
          }
        }
      ]
    },
    {
      "cell_type": "code",
      "metadata": {
        "id": "bPUa7GURJ32P",
        "colab": {
          "base_uri": "https://localhost:8080/"
        },
        "outputId": "4e0a9d34-ca49-469d-bab0-c45b0ac80880"
      },
      "source": [
        "print(Counter(y_train))\n",
        "print(Counter(y_train_resampled))"
      ],
      "execution_count": 83,
      "outputs": [
        {
          "output_type": "stream",
          "name": "stdout",
          "text": [
            "Counter({0: 74875, 1: 125})\n",
            "Counter({0: 74875, 1: 10002})\n"
          ]
        }
      ]
    },
    {
      "cell_type": "markdown",
      "metadata": {
        "id": "9VXhwCrprdqc"
      },
      "source": [
        "## Base Decision Tree Model"
      ]
    },
    {
      "cell_type": "code",
      "metadata": {
        "id": "Udlu0gdaBsz8",
        "colab": {
          "base_uri": "https://localhost:8080/"
        },
        "outputId": "5c0e6e67-305a-4540-8149-c9bf628bf8a5"
      },
      "source": [
        "from sklearn.tree import DecisionTreeClassifier\n",
        "dt = DecisionTreeClassifier(max_depth=3).fit(X_train_cleaned,y_train)\n",
        "y_pred_train = dt.predict_proba(X_train_cleaned)[:,1]\n",
        "y_pred_val = dt.predict_proba(X_val_cleaned)[:,1]\n",
        "y_pred_train_val = dt.predict_proba(X_train_val_cleaned)[:,1]\n",
        "y_pred_test = dt.predict_proba(X_test_cleaned)[:,1]\n",
        "all_results.add_results(y_pred_train, y_pred_val, y_pred_train_val, y_pred_test, \"DT\")"
      ],
      "execution_count": 84,
      "outputs": [
        {
          "output_type": "stream",
          "name": "stderr",
          "text": [
            "/usr/local/lib/python3.7/dist-packages/ipykernel_launcher.py:25: DeprecationWarning: The default dtype for empty Series will be 'object' instead of 'float64' in a future version. Specify a dtype explicitly to silence this warning.\n",
            "/usr/local/lib/python3.7/dist-packages/ipykernel_launcher.py:25: DeprecationWarning: The default dtype for empty Series will be 'object' instead of 'float64' in a future version. Specify a dtype explicitly to silence this warning.\n",
            "/usr/local/lib/python3.7/dist-packages/ipykernel_launcher.py:25: DeprecationWarning: The default dtype for empty Series will be 'object' instead of 'float64' in a future version. Specify a dtype explicitly to silence this warning.\n"
          ]
        }
      ]
    },
    {
      "cell_type": "code",
      "metadata": {
        "id": "_w1aNZhp-i7j",
        "colab": {
          "base_uri": "https://localhost:8080/"
        },
        "outputId": "42ea40a8-928a-4474-af7e-b817ca33e882"
      },
      "source": [
        "from sklearn.tree import DecisionTreeClassifier\n",
        "dt_resampled = DecisionTreeClassifier(max_depth=3).fit(X_train_resampled,y_train_resampled)\n",
        "y_pred_train = dt_resampled.predict_proba(X_train_cleaned.to_numpy())[:,1]\n",
        "y_pred_val = dt_resampled.predict_proba(X_val_cleaned.to_numpy())[:,1]\n",
        "y_pred_train_val = dt_resampled.predict_proba(X_train_val_cleaned.to_numpy())[:,1]\n",
        "y_pred_test = dt_resampled.predict_proba(X_test_cleaned.to_numpy())[:,1]\n",
        "all_results.add_results(y_pred_train, y_pred_val, y_pred_train_val, y_pred_test, \"DT-ADASYN\")"
      ],
      "execution_count": 85,
      "outputs": [
        {
          "output_type": "stream",
          "name": "stderr",
          "text": [
            "/usr/local/lib/python3.7/dist-packages/ipykernel_launcher.py:25: DeprecationWarning: The default dtype for empty Series will be 'object' instead of 'float64' in a future version. Specify a dtype explicitly to silence this warning.\n",
            "/usr/local/lib/python3.7/dist-packages/ipykernel_launcher.py:25: DeprecationWarning: The default dtype for empty Series will be 'object' instead of 'float64' in a future version. Specify a dtype explicitly to silence this warning.\n",
            "/usr/local/lib/python3.7/dist-packages/ipykernel_launcher.py:25: DeprecationWarning: The default dtype for empty Series will be 'object' instead of 'float64' in a future version. Specify a dtype explicitly to silence this warning.\n"
          ]
        }
      ]
    },
    {
      "cell_type": "code",
      "metadata": {
        "id": "_zN2JdVECbZN",
        "colab": {
          "base_uri": "https://localhost:8080/",
          "height": 203
        },
        "outputId": "ad3cfad9-bfbb-4df8-836d-6928e94be176"
      },
      "source": [
        "all_results.train_res"
      ],
      "execution_count": 86,
      "outputs": [
        {
          "output_type": "execute_result",
          "data": {
            "text/html": [
              "<div>\n",
              "<style scoped>\n",
              "    .dataframe tbody tr th:only-of-type {\n",
              "        vertical-align: middle;\n",
              "    }\n",
              "\n",
              "    .dataframe tbody tr th {\n",
              "        vertical-align: top;\n",
              "    }\n",
              "\n",
              "    .dataframe thead th {\n",
              "        text-align: right;\n",
              "    }\n",
              "</style>\n",
              "<table border=\"1\" class=\"dataframe\">\n",
              "  <thead>\n",
              "    <tr style=\"text-align: right;\">\n",
              "      <th></th>\n",
              "      <th>AUC</th>\n",
              "      <th>AUC PRC</th>\n",
              "      <th>F1</th>\n",
              "    </tr>\n",
              "  </thead>\n",
              "  <tbody>\n",
              "    <tr>\n",
              "      <th>PCA</th>\n",
              "      <td>0.947501</td>\n",
              "      <td>0.189318</td>\n",
              "      <td>0.352941</td>\n",
              "    </tr>\n",
              "    <tr>\n",
              "      <th>AE</th>\n",
              "      <td>0.956983</td>\n",
              "      <td>0.380441</td>\n",
              "      <td>0.404181</td>\n",
              "    </tr>\n",
              "    <tr>\n",
              "      <th>VAE</th>\n",
              "      <td>0.956978</td>\n",
              "      <td>0.402697</td>\n",
              "      <td>0.528926</td>\n",
              "    </tr>\n",
              "    <tr>\n",
              "      <th>DT</th>\n",
              "      <td>0.919834</td>\n",
              "      <td>0.733435</td>\n",
              "      <td>0.805310</td>\n",
              "    </tr>\n",
              "    <tr>\n",
              "      <th>DT-ADASYN</th>\n",
              "      <td>0.982173</td>\n",
              "      <td>0.385118</td>\n",
              "      <td>0.589595</td>\n",
              "    </tr>\n",
              "  </tbody>\n",
              "</table>\n",
              "</div>"
            ],
            "text/plain": [
              "                AUC   AUC PRC        F1\n",
              "PCA        0.947501  0.189318  0.352941\n",
              "AE         0.956983  0.380441  0.404181\n",
              "VAE        0.956978  0.402697  0.528926\n",
              "DT         0.919834  0.733435  0.805310\n",
              "DT-ADASYN  0.982173  0.385118  0.589595"
            ]
          },
          "metadata": {},
          "execution_count": 86
        }
      ]
    },
    {
      "cell_type": "code",
      "metadata": {
        "id": "rrHoYRyeCeG3",
        "colab": {
          "base_uri": "https://localhost:8080/",
          "height": 203
        },
        "outputId": "bfa7c9fc-bbd5-41af-b0e5-ac0ebc287c72"
      },
      "source": [
        "all_results.val_res"
      ],
      "execution_count": 87,
      "outputs": [
        {
          "output_type": "execute_result",
          "data": {
            "text/html": [
              "<div>\n",
              "<style scoped>\n",
              "    .dataframe tbody tr th:only-of-type {\n",
              "        vertical-align: middle;\n",
              "    }\n",
              "\n",
              "    .dataframe tbody tr th {\n",
              "        vertical-align: top;\n",
              "    }\n",
              "\n",
              "    .dataframe thead th {\n",
              "        text-align: right;\n",
              "    }\n",
              "</style>\n",
              "<table border=\"1\" class=\"dataframe\">\n",
              "  <thead>\n",
              "    <tr style=\"text-align: right;\">\n",
              "      <th></th>\n",
              "      <th>AUC</th>\n",
              "      <th>AUC PRC</th>\n",
              "      <th>F1</th>\n",
              "    </tr>\n",
              "  </thead>\n",
              "  <tbody>\n",
              "    <tr>\n",
              "      <th>PCA</th>\n",
              "      <td>0.955023</td>\n",
              "      <td>0.206501</td>\n",
              "      <td>0.450000</td>\n",
              "    </tr>\n",
              "    <tr>\n",
              "      <th>AE</th>\n",
              "      <td>0.968501</td>\n",
              "      <td>0.360957</td>\n",
              "      <td>0.514286</td>\n",
              "    </tr>\n",
              "    <tr>\n",
              "      <th>VAE</th>\n",
              "      <td>0.969590</td>\n",
              "      <td>0.384541</td>\n",
              "      <td>0.521739</td>\n",
              "    </tr>\n",
              "    <tr>\n",
              "      <th>DT</th>\n",
              "      <td>0.931612</td>\n",
              "      <td>0.720967</td>\n",
              "      <td>0.769231</td>\n",
              "    </tr>\n",
              "    <tr>\n",
              "      <th>DT-ADASYN</th>\n",
              "      <td>0.930569</td>\n",
              "      <td>0.410616</td>\n",
              "      <td>0.612903</td>\n",
              "    </tr>\n",
              "  </tbody>\n",
              "</table>\n",
              "</div>"
            ],
            "text/plain": [
              "                AUC   AUC PRC        F1\n",
              "PCA        0.955023  0.206501  0.450000\n",
              "AE         0.968501  0.360957  0.514286\n",
              "VAE        0.969590  0.384541  0.521739\n",
              "DT         0.931612  0.720967  0.769231\n",
              "DT-ADASYN  0.930569  0.410616  0.612903"
            ]
          },
          "metadata": {},
          "execution_count": 87
        }
      ]
    },
    {
      "cell_type": "code",
      "metadata": {
        "id": "F4vggka4CgnB",
        "colab": {
          "base_uri": "https://localhost:8080/",
          "height": 203
        },
        "outputId": "22d6b3d9-d210-4dd4-daf8-a5bf8cd83429"
      },
      "source": [
        "all_results.test_res"
      ],
      "execution_count": 88,
      "outputs": [
        {
          "output_type": "execute_result",
          "data": {
            "text/html": [
              "<div>\n",
              "<style scoped>\n",
              "    .dataframe tbody tr th:only-of-type {\n",
              "        vertical-align: middle;\n",
              "    }\n",
              "\n",
              "    .dataframe tbody tr th {\n",
              "        vertical-align: top;\n",
              "    }\n",
              "\n",
              "    .dataframe thead th {\n",
              "        text-align: right;\n",
              "    }\n",
              "</style>\n",
              "<table border=\"1\" class=\"dataframe\">\n",
              "  <thead>\n",
              "    <tr style=\"text-align: right;\">\n",
              "      <th></th>\n",
              "      <th>AUC</th>\n",
              "      <th>AUC PRC</th>\n",
              "      <th>F1</th>\n",
              "    </tr>\n",
              "  </thead>\n",
              "  <tbody>\n",
              "    <tr>\n",
              "      <th>PCA</th>\n",
              "      <td>0.973450</td>\n",
              "      <td>0.171445</td>\n",
              "      <td>0.160000</td>\n",
              "    </tr>\n",
              "    <tr>\n",
              "      <th>AE</th>\n",
              "      <td>0.977295</td>\n",
              "      <td>0.426893</td>\n",
              "      <td>0.380952</td>\n",
              "    </tr>\n",
              "    <tr>\n",
              "      <th>VAE</th>\n",
              "      <td>0.995166</td>\n",
              "      <td>0.366945</td>\n",
              "      <td>0.540541</td>\n",
              "    </tr>\n",
              "    <tr>\n",
              "      <th>DT</th>\n",
              "      <td>0.964111</td>\n",
              "      <td>0.761495</td>\n",
              "      <td>0.814815</td>\n",
              "    </tr>\n",
              "    <tr>\n",
              "      <th>DT-ADASYN</th>\n",
              "      <td>0.951966</td>\n",
              "      <td>0.309604</td>\n",
              "      <td>0.490566</td>\n",
              "    </tr>\n",
              "  </tbody>\n",
              "</table>\n",
              "</div>"
            ],
            "text/plain": [
              "                AUC   AUC PRC        F1\n",
              "PCA        0.973450  0.171445  0.160000\n",
              "AE         0.977295  0.426893  0.380952\n",
              "VAE        0.995166  0.366945  0.540541\n",
              "DT         0.964111  0.761495  0.814815\n",
              "DT-ADASYN  0.951966  0.309604  0.490566"
            ]
          },
          "metadata": {},
          "execution_count": 88
        }
      ]
    }
  ]
}